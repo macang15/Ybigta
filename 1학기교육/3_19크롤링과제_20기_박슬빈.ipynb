{
  "nbformat": 4,
  "nbformat_minor": 0,
  "metadata": {
    "colab": {
      "name": "3.19크롤링과제_20기_박슬빈.ipynb",
      "provenance": [],
      "collapsed_sections": [
        "JBJp9nMj_ey4",
        "_SVBMsygDAOw"
      ]
    },
    "kernelspec": {
      "name": "python3",
      "display_name": "Python 3"
    },
    "language_info": {
      "name": "python"
    }
  },
  "cells": [
    {
      "cell_type": "markdown",
      "source": [
        "# BeautifulSoup 실습"
      ],
      "metadata": {
        "id": "JBJp9nMj_ey4"
      }
    },
    {
      "cell_type": "code",
      "execution_count": 1,
      "metadata": {
        "id": "SX02SszS_Iv6"
      },
      "outputs": [],
      "source": [
        "from bs4 import BeautifulSoup\n",
        "import requests"
      ]
    },
    {
      "cell_type": "code",
      "source": [
        "#Get 요청, naver 서버에 대화 시도\n",
        "response = requests.get('https://search.naver.com/search.naver?where=news&sm=tab_pge&query=BTS&sort=0&photo=0&field=0&pd=0&ds=&de=&cluster_rank=56&mynews=0&office_type=0&office_section_code=0&news_office_checked=&nso=so:r,p:all,a:all&start=1')\n",
        "\n",
        "#네이버에서 html 제공, text 메소드로 태그 내 텍스트만 추출\n",
        "html = response.text\n",
        "\n",
        "#html 번역선생님으로 수프 만듦\n",
        "soup = BeautifulSoup(html, 'html.parser')\n",
        "\n",
        "titles = soup.select('a.news_tit')\n",
        "\n",
        "for title in titles:\n",
        "  art_title = title.text\n",
        "  link = title.attrs['href']\n",
        "  print(art_title, link)"
      ],
      "metadata": {
        "colab": {
          "base_uri": "https://localhost:8080/"
        },
        "id": "Gb0hGvDt_aGW",
        "outputId": "b21bd0b3-414b-4734-a20b-0ab30ca5c347"
      },
      "execution_count": 3,
      "outputs": [
        {
          "output_type": "stream",
          "name": "stdout",
          "text": [
            "지난해 지재권 적자 최소...'오징어게임·BTS' 한류 덕 http://www.fnnews.com/news/202203251257350751\n",
            "BTS·오겜 덕에 지재권 흑자 눈앞 http://news.mk.co.kr/newsRead.php?no=273834&year=2022\n",
            "BTS 정국 빼고 다 걸렸다…3차 맞은 제이홉마저 확진 https://www.joongang.co.kr/article/25058296\n",
            "BTS 콘서트에 세븐틴 영화까지…극장, K팝 그룹 '제2 무대'로 http://yna.kr/AKR20220324158900005?did=1195m\n",
            "BTS 제이홉, 코로나 확진…\"멤버들 증상 없어\" http://news.heraldcorp.com/view.php?ud=20220324000688\n",
            "BTS 제이홉, 부스터샷 맞고도 확진…치료후 美 출국 http://www.newsis.com/view/?id=NISX20220324_0001806158&cID=10601&pID=10600\n",
            "넥스트아이, BTS 라스베가스 콘서트서 팝업스토어 운영 http://www.edaily.co.kr/news/newspath.asp?newsid=03388246632266600\n",
            "방탄소년단 진, 스타랭킹 男돌 12주 연속 2위..BTS 파워 http://star.mt.co.kr/stview.php?no=2022032415153818963\n",
            "BTS member-coronavirus http://yna.kr/AEN20220324007900315?did=2106m\n",
            "BTS 정국, 청량섹시 그 자체 https://www.xportsnews.com/article/1552640\n"
          ]
        }
      ]
    },
    {
      "cell_type": "code",
      "source": [
        "pageNum=1\n",
        "#1, 11, 21....91\n",
        "for page in range(1,100,10):\n",
        "  print(f'{pageNum}번째 페이지입니다.')\n",
        "  #Get 요청, naver 서버에 대화 시도\n",
        "  response = requests.get(f'https://search.naver.com/search.naver?where=news&sm=tab_pge&query=BTS&sort=0&photo=0&field=0&pd=0&ds=&de=&cluster_rank=56&mynews=0&office_type=0&office_section_code=0&news_office_checked=&nso=so:r,p:all,a:all&start={page}')\n",
        "\n",
        "  #네이버에서 html 제공, text 메소드로 태그 내 텍스트만 추출\n",
        "  html = response.text\n",
        "\n",
        "  #html 번역선생님으로 수프 만듦\n",
        "  soup = BeautifulSoup(html, 'html.parser')\n",
        "\n",
        "  titles = soup.select('a.news_tit')\n",
        "\n",
        "  for title in titles:\n",
        "    art_title = title.text\n",
        "    link = title.attrs['href']\n",
        "    print(art_title, link)\n",
        "\n",
        "  pageNum += 1"
      ],
      "metadata": {
        "colab": {
          "base_uri": "https://localhost:8080/"
        },
        "id": "0OWXQyXxB6J9",
        "outputId": "eb1774c1-4c9d-432f-990c-ad2794dd0365"
      },
      "execution_count": 4,
      "outputs": [
        {
          "output_type": "stream",
          "name": "stdout",
          "text": [
            "1번째 페이지입니다.\n",
            "지난해 지재권 적자 최소...'오징어게임·BTS' 한류 덕 http://www.fnnews.com/news/202203251257350751\n",
            "BTS 정국 빼고 다 걸렸다…3차 맞은 제이홉마저 확진 https://www.joongang.co.kr/article/25058296\n",
            "BTS 콘서트에 세븐틴 영화까지…극장, K팝 그룹 '제2 무대'로 http://yna.kr/AKR20220324158900005?did=1195m\n",
            "BTS 제이홉, 코로나 확진…\"멤버들 증상 없어\" http://news.heraldcorp.com/view.php?ud=20220324000688\n",
            "BTS 제이홉, 부스터샷 맞고도 확진…치료후 美 출국 http://www.newsis.com/view/?id=NISX20220324_0001806158&cID=10601&pID=10600\n",
            "넥스트아이, BTS 라스베가스 콘서트서 팝업스토어 운영 http://www.edaily.co.kr/news/newspath.asp?newsid=03388246632266600\n",
            "방탄소년단 진, 스타랭킹 男돌 12주 연속 2위..BTS 파워 http://star.mt.co.kr/stview.php?no=2022032415153818963\n",
            "BTS member-coronavirus http://yna.kr/AEN20220324007900315?did=2106m\n",
            "BTS 정국, 청량섹시 그 자체 https://www.xportsnews.com/article/1552640\n",
            "BTS 2017년 음반 빌보드 차트 역주행 http://www.dt.co.kr/contents.html?article_no=2022032302109919608002&ref=naver\n",
            "2번째 페이지입니다.\n",
            "BTS, 미국 '아이하트라디오 뮤직 어워즈' 2관왕…5년 연속 수상 http://yna.kr/AKR20220323046800005?did=1195m\n",
            "'미학적 피드' 1위 진·'89주 인기투표' 1위 지민… BTS, 매력 어디까지? http://moneys.mt.co.kr/news/mwView.php?no=2022032515238022441\n",
            "‘BTS 소속사 연봉킹’ 방시혁 아니다… 작년 400억 번 이 남자 https://www.sedaily.com/NewsView/263J28Q5PT\n",
            "BTS 뷔, 빛나는 청춘 https://www.xportsnews.com/article/1552075\n",
            "방탄소년단 진, 스타랭킹 男돌 12주 연속 2위..BTS 파워 http://star.mt.co.kr/stview.php?no=2022032415153818963\n",
            "BTS, 미국 '아이하트라디오 뮤직 어워즈' 2관왕 http://starin.edaily.co.kr/news/newspath.asp?newsid=01151286632266272\n",
            "BTS도 입었다…김리을 “나의 눈으로 재해석…한복에 문화를 입힌다” http://news.heraldcorp.com/view.php?ud=20220324000635\n",
            "BTS, 美 아이하트라디오 뮤직 어워드 2관왕 http://news.kmib.co.kr/article/view.asp?arcid=0924237352&code=13110000&cp=nv\n",
            "'권진규 탄생 100주년' 기념전...BTS RM 소장품도 전시 http://www.newsis.com/view/?id=NISX20220323_0001803942&cID=10701&pID=10700\n",
            "BTS 정국 외가, 마을 지도 표기 논란...\"엄연한 사생활 침해\" https://star.ytn.co.kr/_sn/0117_202203231801357210\n",
            "3번째 페이지입니다.\n",
            "\"○○○이 편의점 10군데를\"… BTS RM, '포켓몬빵 '모은 방법 '주목' http://moneys.mt.co.kr/news/mwView.php?no=2022032514568044194\n",
            "‘BTS 소속사 연봉킹’ 방시혁 아니네… 지난해만 400억 번 이 남자 https://www.chosun.com/economy/economy_general/2022/03/22/H2DSMXPLDRARTHXKS2HJMABOUE/?utm_source=naver&utm_medium=referral&utm_campaign=naver-news\n",
            "BTS, 美 아이하트라디오 뮤직 어워드 2관왕…5년 연속 수상 http://news.kmib.co.kr/article/view.asp?arcid=0016898629&code=61181611&cp=nv\n",
            "‘마마무→BTS’ 아이돌 OTT 다큐 붐 http://sports.khan.co.kr/news/sk_index.html?art_id=202203242050003&sec_id=540101&pt=nv\n",
            "빅히트 '보수왕'은 BTS 프로듀서…CEO의 80배 https://www.hankyung.com/finance/article/2022032231967\n",
            "BTS-US awards http://yna.kr/AEN20220323002900315?did=2106m\n",
            "[THINK ENGLISH] BTS가 그래미 무대에서 'Permission to dance'를 받다 https://koreajoongangdaily.joins.com/2022/03/25/entertainment/kpop/THINK-ENGLISH-BTS-64th-Grammy-Awards/20220325100002048.html\n",
            "엠마 왓슨부터 툰베리, BTS까지…, 엠제코 셀럽시대[지구, 뭐래?] http://news.heraldcorp.com/view.php?ud=20220324000943\n",
            "'BTS 화보집 정품인증' 블록오디세이, 360억 규모 투자 유치 http://news.mt.co.kr/mtview.php?no=2022032410044179607\n",
            "특허청특별사법경찰, BTS 서울콘서트에 나타난 까닭 http://www.bizhankook.com/article/23477\n",
            "4번째 페이지입니다.\n",
            "BTS·지코·대선 주자…“사람이 영감…단 한 벌도 같은 것은 없다” http://news.heraldcorp.com/view.php?ud=20220324000636\n",
            "BTS 진, 남신 그 자체 https://www.xportsnews.com/article/1551611\n",
            "BTS 진, 왼손 검지 다쳐 수술 후 오늘 퇴원…보호대 착용 https://www.nocutnews.co.kr/news/5725688\n",
            "BTS '온' 뮤직비디오, 유튜브 3억 뷰 돌파 http://yna.kr/AKR20220319020500005?did=1195m\n",
            "BTS 진, 탄생 10700일 기념 ‘최애돌’ 투표수 1위 등극 https://www.xportsnews.com/article/1552035\n",
            "제8회 최우수 소방안전강사에 김포소방서 이민형 소방교 https://www.asiatoday.co.kr/view.php?key=20220325010014643\n",
            "미국에서 BTS만큼 반가운 김, 이건 좀 아쉽네요 http://www.ohmynews.com/NWS_Web/View/at_pg.aspx?CNTN_CD=A0002819749&CMPT_CD=P0010&utm_source=naver&utm_medium=newsearch&utm_campaign=naver_news\n",
            "\"들튀하고 싶어요♥\" 방탄소년단 진, 귀여움과 멋짐 '아름다운 남자' http://star.mt.co.kr/stview.php?no=2022032507182969004\n",
            "세계 레코드 음악시장 역대 최대 성장…BTS가 견인차 https://sports.donga.com/article/all/20220323/112490651/2\n",
            "BTS 뷔, 모로코 스포티파이 1위->아시아 가수 신기록 https://tenasia.hankyung.com/topic/article/2022032337734\n",
            "5번째 페이지입니다.\n",
            "방탄소년단 정국 '유포리아' 美롤링스톤 선정 '최고의 BTS 노래' 솔로곡 1위 https://tenasia.hankyung.com/tvten/article/2022032337914\n",
            "[재택플러스] BTS가 '키운' 라면‥'모디슈머' 인기 https://imnews.imbc.com/replay/2022/nwtoday/article/6352870_35752.html\n",
            "BTS·수지 넘어섰다…벚꽃놀이 같이 가고픈 스타 1위는 http://news.mt.co.kr/mtview.php?no=2022032211070884028\n",
            "BTS, 美 그래미 시상식서 3년 연속 공연 http://news.tvchosun.com/site/data/html_dir/2022/03/16/2022031690049.html\n",
            "BTS 뷔, 딸기라떼 광고 모델로 딱인 남돌 투표 1위 https://www.xportsnews.com/article/1551614\n",
            "BTS 서울 콘서트, ‘혼콘’ 하다 울컥했어요 [SynchroniCITY] https://weekly.donga.com/3/all/11/3257752/1\n",
            "BTS 뷔, 남신 그 자체 https://www.xportsnews.com/article/1550658\n",
            "BTS and chief producer Pdogg tops salary rank at Hybe http://pulsenews.co.kr/view.php?year=2022&no=264114\n",
            "［韓流］ＢＴＳのＪ－ＨＯＰＥが新型コロナ感染 メンバー６人目 http://yna.kr/AJP20220324004200882?did=1728m\n",
            "'이상한 나라의 수학자' 음악감독 \"BTS 음악에도 영감 받아\" [일문일답] http://starin.edaily.co.kr/news/newspath.asp?newsid=01111926632266600\n",
            "6번째 페이지입니다.\n",
            "“우리는 무너지지 않는다”… 우크라는 여전히 ‘결사항전’ http://www.munhwa.com/news/view.html?no=2022032401031430307001\n",
            "BTS 진, 남다른 비주얼로 팬심 저격 https://www.xportsnews.com/article/1551135\n",
            "［韓流］ＢＴＳ 米アイハートラジオ授賞式で今年も２冠 http://yna.kr/AJP20220323001700882?did=1728m\n",
            "'지구인 더 하우스' BTS가 입은 '이것' 심은진도 도전 http://www.newsis.com/view/?id=NISX20220322_0001803130&cID=10601&pID=10600\n",
            "NFT 프로젝트 '좀비컬쳐클럽' 4월 중 공개…BTS월드·지우학·두다다쿵 제작사... https://www.xportsnews.com/article/1551797\n",
            "방탄소년단 \"아미! 라스베이거스서 만나요\" 지민X진X정국 '빼꼼' http://star.mt.co.kr/stview.php?no=2022032411192715793\n",
            "'오버 더 유니버스', BTS 히트곡과 특수효과의 조화 http://www.newsis.com/view/?id=NISI20220322_0018620054\n",
            "［韓流］ＢＴＳ ４年半前のアルバムがビルボードでチャートイン http://yna.kr/AJP20220323001300882?did=1728m\n",
            "[BTS News] 방탄소년단 지민, e스포츠에도 영향력...실루엣으로 도발 http://theviewers.co.kr/View.aspx?No=2247423\n",
            "BTS RM도 방문한 박대성 화백, 독일서 개인전 개최 http://www.newsis.com/view/?id=NISX20220322_0001802394&cID=10701&pID=10700\n",
            "7번째 페이지입니다.\n",
            "BTS를 시청률 미끼로…비난 쏟아졌던 그래미, 이번엔 다를까 [이슈+] https://www.hankyung.com/life/article/2022031846767\n",
            "BTS와 “우리는 지난날의 대한민국이 아닙니다”…文정부, ‘국민보고’ https://biz.chosun.com/policy/politics/2022/03/20/T5EUL6E7LZCIDIWUJSIK2OLB3E/?utm_source=naver&utm_medium=original&utm_campaign=biz\n",
            "전통에 갇힌 ‘한복의 족쇄’를 푼 이남자[디자인 플러스] http://news.heraldcorp.com/view.php?ud=20220325000300\n",
            "BTS 서울 콘서트, 전 세계 극장 생중계로 티켓 매출 400억 원 http://yna.kr/AKR20220314004900075?did=1195m\n",
            "제2의 BTS 찾는다? 하이브 美서 합동 오디션 개최 http://www.fnnews.com/news/202203210914391124\n",
            "\"BTS 군대 안가나?\"…하이브, 5% 급등하며 100일만에 30만원대 회복 https://www.news1.kr/articles/?4624482\n",
            "BTS 서울 콘서트, 전 세계서 250만명 봤다 https://www.hankyung.com/life/article/202203142207i\n",
            "BTS와 찍은 사진…文정부 ‘국민보고’ 내용은 https://www.chosun.com/politics/politics_general/2022/03/20/V2YXQ7FXKBE5JOD22UYC4VCIW4/?utm_source=naver&utm_medium=referral&utm_campaign=naver-news\n",
            "방탄소년단(BTS) 등장하는 세계 유일 멀티미디어쇼 ‘오버 더 유니버스(Over ... http://sports.khan.co.kr/news/sk_index.html?art_id=202203230000003&sec_id=540101&pt=nv\n",
            "BTS 서울 콘서트, 전 세계서 250만명 봤다 https://biz.chosun.com/topics/topics_social/2022/03/14/3KIDQMTJTVHMRK43PLX32NSU6I/?utm_source=naver&utm_medium=original&utm_campaign=biz\n",
            "8번째 페이지입니다.\n",
            "BTS-Grammys http://yna.kr/AEN20220316001700315?did=2106m\n",
            "[BTS News] 방탄소년단 지민, 이름만으로 유튜브 점령...‘JININ 자체로 ICON... http://theviewers.co.kr/View.aspx?No=2247421\n",
            "［韓流］映画館がＫ―ＰＯＰ歌手「第２のステージ」に 公演中継やドキュ上映 http://yna.kr/AJP20220325001800882?did=1728m\n",
            "'그래미 어워드' 2년 연속 후보 지명…BTS, 수상 여부는 http://www.newspim.com/news/view/20220322000635\n",
            "[BTS News] “JIMIN EFFECT” 방탄소년단 지민, 틱톡?...빌보드 ‘핫100’ 역... http://theviewers.co.kr/View.aspx?No=2247417\n",
            "BTS랑 춤추던 현대차의 로봇개, 美소방 현장에 투입된다 https://www.chosun.com/economy/tech_it/2022/03/21/AFXI3KDHORDG7GJN4SPKSAGB7I/?utm_source=naver&utm_medium=referral&utm_campaign=naver-news\n",
            "세계 최초 매일 밤 BTS 환상 공연…에버랜드 '오버 더 유니버스' http://www.newsis.com/view/?id=NISX20220313_0001791340&cID=13001&pID=13000\n",
            "BTS RM도 찾은 화랑미술제, 역대 최대 177억 매출 https://www.nocutnews.co.kr/news/5726028\n",
            "BTS, 日 골든 디스크 대상 10관왕…해외가수 최다 기록 http://news.tvchosun.com/site/data/html_dir/2022/03/15/2022031590036.html\n",
            "BTS 지민, 팬심을 저격하는 눈웃음 https://www.xportsnews.com/article/1550413\n",
            "9번째 페이지입니다.\n",
            "BTS 뷔, 흑백사진 속에서도 빛나는 비주얼 https://www.xportsnews.com/article/1550411\n",
            "띠부띠부씰 한장에 '5만원'...BTS도 못 구한 포켓몬빵 http://www.edaily.co.kr/news/newspath.asp?newsid=03152086632263320\n",
            "마을지도에 ‘BTS 정국 외가’ 표기… 관광 활성화? 사생활 침해? [어떻게 생... http://www.busan.com/view/busan/view.php?code=2022032217535797987\n",
            "BTS도 못 구한 ‘포켓몬빵’ 품절 사태 https://weekly.hankooki.com/lpage/economy/202203/wk20220318113358146450.htm?s_ref=nv\n",
            "BTS, 일본 골드디스크 대상서 ‘10관왕’…콘서트는 사흘간 세계 ‘246만명’ https://www.khan.co.kr/culture/culture-general/article/202203141109001\n",
            "스크린으로 만난 BTS…서울공연, 75개국 영화관 3천711곳서 중계 http://yna.kr/AKR20220313025300005?did=1195m\n",
            "대(對) 일본 공공외교의 발전 방향 http://www.ifs.or.kr/bbs/board.php?bo_table=News&wr_id=4157\n",
            "BTS 3년 연속 그래미 어워드 무대에 선다 http://news.kmib.co.kr/article/view.asp?arcid=0924236221&code=13230000&cp=nv\n",
            "“BTS·블핑도 내 작품에 영감 줘요” https://www.seoul.co.kr/news/newsView.php?id=20220316024025&wlog_tag3=naver\n",
            "율이에(YUUL YIE) 부츠, BTS 정국이 신어 화제! http://www.fashionbiz.co.kr/TN/?cate=2&recom=2&idx=190830\n",
            "10번째 페이지입니다.\n",
            "빅히트 연습생 출신 김지훈, “BTS 진이 제일 잘생겼다” https://www.xportsnews.com/article/1550408\n",
            "'BTS' 바르셀로나 유니폼에 새기나…스폰서 변경 후 관심집중 http://news.mt.co.kr/mtview.php?no=2022032208242312300\n",
            "BTS-YouTube views http://yna.kr/AEN20220319000700315?did=2106m\n",
            "BTS와 함께 봄 터지다... 18일부터 에버랜드 튤립축제 https://hankookilbo.com/News/Read/A2022031509270002508?did=NA\n",
            "[오늘의 슈스뉴스] BTS 소속사 계약? 엠카 1위? 아이즈원 근황 모음.ZIP https://star.ytn.co.kr/_sn/0117_202203230905494571\n",
            "'음주운전' 박시연, BTS 콘서트 관람 인증…\"많이 좋아해요\" http://www.newsis.com/view/?id=NISX20220315_0001793948&cID=10601&pID=10600\n",
            "BTS 日 골든 디스크 10관왕… 작년 8관왕 성적 갈아치워 http://news.kmib.co.kr/article/view.asp?arcid=0016865864&code=61181111&cp=nv\n",
            "[BTS News] 방탄소년단 정국 ‘Euphoria’, 美롤링스톤 선정 ‘최고의 BTS 솔... http://theviewers.co.kr/View.aspx?No=2247413\n",
            "‘함성 없었던’ BTS 서울 콘서트, 전세계 246만명이 함께 봤다 https://www.hani.co.kr/arti/culture/music/1034702.html\n",
            "BTS RM도 푹 빠진 '권진규의 조각 세계' http://www.btnnews.tv/news/articleView.html?idxno=70700\n"
          ]
        }
      ]
    },
    {
      "cell_type": "markdown",
      "source": [
        "# 셀레늄 실습"
      ],
      "metadata": {
        "id": "_SVBMsygDAOw"
      }
    },
    {
      "cell_type": "markdown",
      "source": [
        ""
      ],
      "metadata": {
        "id": "GA_1EfZgFEnn"
      }
    },
    {
      "cell_type": "code",
      "source": [
        "pip install selenium"
      ],
      "metadata": {
        "colab": {
          "base_uri": "https://localhost:8080/"
        },
        "id": "n4xFO70VF2bK",
        "outputId": "9a113e75-690b-43f2-daa7-fe8b64ef0111"
      },
      "execution_count": 2,
      "outputs": [
        {
          "output_type": "stream",
          "name": "stdout",
          "text": [
            "Collecting selenium\n",
            "  Downloading selenium-4.1.3-py3-none-any.whl (968 kB)\n",
            "\u001b[?25l\r\u001b[K     |▍                               | 10 kB 27.8 MB/s eta 0:00:01\r\u001b[K     |▊                               | 20 kB 31.8 MB/s eta 0:00:01\r\u001b[K     |█                               | 30 kB 34.1 MB/s eta 0:00:01\r\u001b[K     |█▍                              | 40 kB 37.1 MB/s eta 0:00:01\r\u001b[K     |█▊                              | 51 kB 29.5 MB/s eta 0:00:01\r\u001b[K     |██                              | 61 kB 31.5 MB/s eta 0:00:01\r\u001b[K     |██▍                             | 71 kB 32.3 MB/s eta 0:00:01\r\u001b[K     |██▊                             | 81 kB 33.9 MB/s eta 0:00:01\r\u001b[K     |███                             | 92 kB 36.0 MB/s eta 0:00:01\r\u001b[K     |███▍                            | 102 kB 35.2 MB/s eta 0:00:01\r\u001b[K     |███▊                            | 112 kB 35.2 MB/s eta 0:00:01\r\u001b[K     |████                            | 122 kB 35.2 MB/s eta 0:00:01\r\u001b[K     |████▍                           | 133 kB 35.2 MB/s eta 0:00:01\r\u001b[K     |████▊                           | 143 kB 35.2 MB/s eta 0:00:01\r\u001b[K     |█████                           | 153 kB 35.2 MB/s eta 0:00:01\r\u001b[K     |█████▍                          | 163 kB 35.2 MB/s eta 0:00:01\r\u001b[K     |█████▊                          | 174 kB 35.2 MB/s eta 0:00:01\r\u001b[K     |██████                          | 184 kB 35.2 MB/s eta 0:00:01\r\u001b[K     |██████▍                         | 194 kB 35.2 MB/s eta 0:00:01\r\u001b[K     |██████▊                         | 204 kB 35.2 MB/s eta 0:00:01\r\u001b[K     |███████                         | 215 kB 35.2 MB/s eta 0:00:01\r\u001b[K     |███████▍                        | 225 kB 35.2 MB/s eta 0:00:01\r\u001b[K     |███████▉                        | 235 kB 35.2 MB/s eta 0:00:01\r\u001b[K     |████████▏                       | 245 kB 35.2 MB/s eta 0:00:01\r\u001b[K     |████████▌                       | 256 kB 35.2 MB/s eta 0:00:01\r\u001b[K     |████████▉                       | 266 kB 35.2 MB/s eta 0:00:01\r\u001b[K     |█████████▏                      | 276 kB 35.2 MB/s eta 0:00:01\r\u001b[K     |█████████▌                      | 286 kB 35.2 MB/s eta 0:00:01\r\u001b[K     |█████████▉                      | 296 kB 35.2 MB/s eta 0:00:01\r\u001b[K     |██████████▏                     | 307 kB 35.2 MB/s eta 0:00:01\r\u001b[K     |██████████▌                     | 317 kB 35.2 MB/s eta 0:00:01\r\u001b[K     |██████████▉                     | 327 kB 35.2 MB/s eta 0:00:01\r\u001b[K     |███████████▏                    | 337 kB 35.2 MB/s eta 0:00:01\r\u001b[K     |███████████▌                    | 348 kB 35.2 MB/s eta 0:00:01\r\u001b[K     |███████████▉                    | 358 kB 35.2 MB/s eta 0:00:01\r\u001b[K     |████████████▏                   | 368 kB 35.2 MB/s eta 0:00:01\r\u001b[K     |████████████▌                   | 378 kB 35.2 MB/s eta 0:00:01\r\u001b[K     |████████████▉                   | 389 kB 35.2 MB/s eta 0:00:01\r\u001b[K     |█████████████▏                  | 399 kB 35.2 MB/s eta 0:00:01\r\u001b[K     |█████████████▌                  | 409 kB 35.2 MB/s eta 0:00:01\r\u001b[K     |█████████████▉                  | 419 kB 35.2 MB/s eta 0:00:01\r\u001b[K     |██████████████▏                 | 430 kB 35.2 MB/s eta 0:00:01\r\u001b[K     |██████████████▌                 | 440 kB 35.2 MB/s eta 0:00:01\r\u001b[K     |██████████████▉                 | 450 kB 35.2 MB/s eta 0:00:01\r\u001b[K     |███████████████▏                | 460 kB 35.2 MB/s eta 0:00:01\r\u001b[K     |███████████████▋                | 471 kB 35.2 MB/s eta 0:00:01\r\u001b[K     |████████████████                | 481 kB 35.2 MB/s eta 0:00:01\r\u001b[K     |████████████████▎               | 491 kB 35.2 MB/s eta 0:00:01\r\u001b[K     |████████████████▋               | 501 kB 35.2 MB/s eta 0:00:01\r\u001b[K     |█████████████████               | 512 kB 35.2 MB/s eta 0:00:01\r\u001b[K     |█████████████████▎              | 522 kB 35.2 MB/s eta 0:00:01\r\u001b[K     |█████████████████▋              | 532 kB 35.2 MB/s eta 0:00:01\r\u001b[K     |██████████████████              | 542 kB 35.2 MB/s eta 0:00:01\r\u001b[K     |██████████████████▎             | 552 kB 35.2 MB/s eta 0:00:01\r\u001b[K     |██████████████████▋             | 563 kB 35.2 MB/s eta 0:00:01\r\u001b[K     |███████████████████             | 573 kB 35.2 MB/s eta 0:00:01\r\u001b[K     |███████████████████▎            | 583 kB 35.2 MB/s eta 0:00:01\r\u001b[K     |███████████████████▋            | 593 kB 35.2 MB/s eta 0:00:01\r\u001b[K     |████████████████████            | 604 kB 35.2 MB/s eta 0:00:01\r\u001b[K     |████████████████████▎           | 614 kB 35.2 MB/s eta 0:00:01\r\u001b[K     |████████████████████▋           | 624 kB 35.2 MB/s eta 0:00:01\r\u001b[K     |█████████████████████           | 634 kB 35.2 MB/s eta 0:00:01\r\u001b[K     |█████████████████████▎          | 645 kB 35.2 MB/s eta 0:00:01\r\u001b[K     |█████████████████████▋          | 655 kB 35.2 MB/s eta 0:00:01\r\u001b[K     |██████████████████████          | 665 kB 35.2 MB/s eta 0:00:01\r\u001b[K     |██████████████████████▎         | 675 kB 35.2 MB/s eta 0:00:01\r\u001b[K     |██████████████████████▋         | 686 kB 35.2 MB/s eta 0:00:01\r\u001b[K     |███████████████████████         | 696 kB 35.2 MB/s eta 0:00:01\r\u001b[K     |███████████████████████▍        | 706 kB 35.2 MB/s eta 0:00:01\r\u001b[K     |███████████████████████▊        | 716 kB 35.2 MB/s eta 0:00:01\r\u001b[K     |████████████████████████        | 727 kB 35.2 MB/s eta 0:00:01\r\u001b[K     |████████████████████████▍       | 737 kB 35.2 MB/s eta 0:00:01\r\u001b[K     |████████████████████████▊       | 747 kB 35.2 MB/s eta 0:00:01\r\u001b[K     |█████████████████████████       | 757 kB 35.2 MB/s eta 0:00:01\r\u001b[K     |█████████████████████████▍      | 768 kB 35.2 MB/s eta 0:00:01\r\u001b[K     |█████████████████████████▊      | 778 kB 35.2 MB/s eta 0:00:01\r\u001b[K     |██████████████████████████      | 788 kB 35.2 MB/s eta 0:00:01\r\u001b[K     |██████████████████████████▍     | 798 kB 35.2 MB/s eta 0:00:01\r\u001b[K     |██████████████████████████▊     | 808 kB 35.2 MB/s eta 0:00:01\r\u001b[K     |███████████████████████████     | 819 kB 35.2 MB/s eta 0:00:01\r\u001b[K     |███████████████████████████▍    | 829 kB 35.2 MB/s eta 0:00:01\r\u001b[K     |███████████████████████████▊    | 839 kB 35.2 MB/s eta 0:00:01\r\u001b[K     |████████████████████████████    | 849 kB 35.2 MB/s eta 0:00:01\r\u001b[K     |████████████████████████████▍   | 860 kB 35.2 MB/s eta 0:00:01\r\u001b[K     |████████████████████████████▊   | 870 kB 35.2 MB/s eta 0:00:01\r\u001b[K     |█████████████████████████████   | 880 kB 35.2 MB/s eta 0:00:01\r\u001b[K     |█████████████████████████████▍  | 890 kB 35.2 MB/s eta 0:00:01\r\u001b[K     |█████████████████████████████▊  | 901 kB 35.2 MB/s eta 0:00:01\r\u001b[K     |██████████████████████████████  | 911 kB 35.2 MB/s eta 0:00:01\r\u001b[K     |██████████████████████████████▍ | 921 kB 35.2 MB/s eta 0:00:01\r\u001b[K     |██████████████████████████████▉ | 931 kB 35.2 MB/s eta 0:00:01\r\u001b[K     |███████████████████████████████▏| 942 kB 35.2 MB/s eta 0:00:01\r\u001b[K     |███████████████████████████████▌| 952 kB 35.2 MB/s eta 0:00:01\r\u001b[K     |███████████████████████████████▉| 962 kB 35.2 MB/s eta 0:00:01\r\u001b[K     |████████████████████████████████| 968 kB 35.2 MB/s \n",
            "\u001b[?25hCollecting trio~=0.17\n",
            "  Downloading trio-0.20.0-py3-none-any.whl (359 kB)\n",
            "\u001b[?25l\r\u001b[K     |█                               | 10 kB 28.4 MB/s eta 0:00:01\r\u001b[K     |█▉                              | 20 kB 35.2 MB/s eta 0:00:01\r\u001b[K     |██▊                             | 30 kB 41.3 MB/s eta 0:00:01\r\u001b[K     |███▋                            | 40 kB 46.0 MB/s eta 0:00:01\r\u001b[K     |████▋                           | 51 kB 49.0 MB/s eta 0:00:01\r\u001b[K     |█████▌                          | 61 kB 50.4 MB/s eta 0:00:01\r\u001b[K     |██████▍                         | 71 kB 50.0 MB/s eta 0:00:01\r\u001b[K     |███████▎                        | 81 kB 49.9 MB/s eta 0:00:01\r\u001b[K     |████████▏                       | 92 kB 51.5 MB/s eta 0:00:01\r\u001b[K     |█████████▏                      | 102 kB 52.9 MB/s eta 0:00:01\r\u001b[K     |██████████                      | 112 kB 52.9 MB/s eta 0:00:01\r\u001b[K     |███████████                     | 122 kB 52.9 MB/s eta 0:00:01\r\u001b[K     |███████████▉                    | 133 kB 52.9 MB/s eta 0:00:01\r\u001b[K     |████████████▊                   | 143 kB 52.9 MB/s eta 0:00:01\r\u001b[K     |█████████████▊                  | 153 kB 52.9 MB/s eta 0:00:01\r\u001b[K     |██████████████▋                 | 163 kB 52.9 MB/s eta 0:00:01\r\u001b[K     |███████████████▌                | 174 kB 52.9 MB/s eta 0:00:01\r\u001b[K     |████████████████▍               | 184 kB 52.9 MB/s eta 0:00:01\r\u001b[K     |█████████████████▍              | 194 kB 52.9 MB/s eta 0:00:01\r\u001b[K     |██████████████████▎             | 204 kB 52.9 MB/s eta 0:00:01\r\u001b[K     |███████████████████▏            | 215 kB 52.9 MB/s eta 0:00:01\r\u001b[K     |████████████████████            | 225 kB 52.9 MB/s eta 0:00:01\r\u001b[K     |█████████████████████           | 235 kB 52.9 MB/s eta 0:00:01\r\u001b[K     |██████████████████████          | 245 kB 52.9 MB/s eta 0:00:01\r\u001b[K     |██████████████████████▉         | 256 kB 52.9 MB/s eta 0:00:01\r\u001b[K     |███████████████████████▊        | 266 kB 52.9 MB/s eta 0:00:01\r\u001b[K     |████████████████████████▋       | 276 kB 52.9 MB/s eta 0:00:01\r\u001b[K     |█████████████████████████▌      | 286 kB 52.9 MB/s eta 0:00:01\r\u001b[K     |██████████████████████████▌     | 296 kB 52.9 MB/s eta 0:00:01\r\u001b[K     |███████████████████████████▍    | 307 kB 52.9 MB/s eta 0:00:01\r\u001b[K     |████████████████████████████▎   | 317 kB 52.9 MB/s eta 0:00:01\r\u001b[K     |█████████████████████████████▏  | 327 kB 52.9 MB/s eta 0:00:01\r\u001b[K     |██████████████████████████████▏ | 337 kB 52.9 MB/s eta 0:00:01\r\u001b[K     |███████████████████████████████ | 348 kB 52.9 MB/s eta 0:00:01\r\u001b[K     |████████████████████████████████| 358 kB 52.9 MB/s eta 0:00:01\r\u001b[K     |████████████████████████████████| 359 kB 52.9 MB/s \n",
            "\u001b[?25hCollecting trio-websocket~=0.9\n",
            "  Downloading trio_websocket-0.9.2-py3-none-any.whl (16 kB)\n",
            "Collecting urllib3[secure,socks]~=1.26\n",
            "  Downloading urllib3-1.26.9-py2.py3-none-any.whl (138 kB)\n",
            "\u001b[K     |████████████████████████████████| 138 kB 49.3 MB/s \n",
            "\u001b[?25hRequirement already satisfied: idna in /usr/local/lib/python3.7/dist-packages (from trio~=0.17->selenium) (2.10)\n",
            "Requirement already satisfied: sortedcontainers in /usr/local/lib/python3.7/dist-packages (from trio~=0.17->selenium) (2.4.0)\n",
            "Requirement already satisfied: attrs>=19.2.0 in /usr/local/lib/python3.7/dist-packages (from trio~=0.17->selenium) (21.4.0)\n",
            "Collecting sniffio\n",
            "  Downloading sniffio-1.2.0-py3-none-any.whl (10 kB)\n",
            "Collecting outcome\n",
            "  Downloading outcome-1.1.0-py2.py3-none-any.whl (9.7 kB)\n",
            "Collecting async-generator>=1.9\n",
            "  Downloading async_generator-1.10-py3-none-any.whl (18 kB)\n",
            "Collecting wsproto>=0.14\n",
            "  Downloading wsproto-1.1.0-py3-none-any.whl (24 kB)\n",
            "Requirement already satisfied: PySocks!=1.5.7,<2.0,>=1.5.6 in /usr/local/lib/python3.7/dist-packages (from urllib3[secure,socks]~=1.26->selenium) (1.7.1)\n",
            "Collecting cryptography>=1.3.4\n",
            "  Downloading cryptography-36.0.2-cp36-abi3-manylinux_2_24_x86_64.whl (3.6 MB)\n",
            "\u001b[K     |████████████████████████████████| 3.6 MB 51.3 MB/s \n",
            "\u001b[?25hCollecting pyOpenSSL>=0.14\n",
            "  Downloading pyOpenSSL-22.0.0-py2.py3-none-any.whl (55 kB)\n",
            "\u001b[K     |████████████████████████████████| 55 kB 745 kB/s \n",
            "\u001b[?25hRequirement already satisfied: certifi in /usr/local/lib/python3.7/dist-packages (from urllib3[secure,socks]~=1.26->selenium) (2021.10.8)\n",
            "Requirement already satisfied: cffi>=1.12 in /usr/local/lib/python3.7/dist-packages (from cryptography>=1.3.4->urllib3[secure,socks]~=1.26->selenium) (1.15.0)\n",
            "Requirement already satisfied: pycparser in /usr/local/lib/python3.7/dist-packages (from cffi>=1.12->cryptography>=1.3.4->urllib3[secure,socks]~=1.26->selenium) (2.21)\n",
            "Collecting h11<1,>=0.9.0\n",
            "  Downloading h11-0.13.0-py3-none-any.whl (58 kB)\n",
            "\u001b[K     |████████████████████████████████| 58 kB 5.7 MB/s \n",
            "\u001b[?25hRequirement already satisfied: typing-extensions in /usr/local/lib/python3.7/dist-packages (from h11<1,>=0.9.0->wsproto>=0.14->trio-websocket~=0.9->selenium) (3.10.0.2)\n",
            "Installing collected packages: sniffio, outcome, h11, cryptography, async-generator, wsproto, urllib3, trio, pyOpenSSL, trio-websocket, selenium\n",
            "  Attempting uninstall: urllib3\n",
            "    Found existing installation: urllib3 1.24.3\n",
            "    Uninstalling urllib3-1.24.3:\n",
            "      Successfully uninstalled urllib3-1.24.3\n",
            "\u001b[31mERROR: pip's dependency resolver does not currently take into account all the packages that are installed. This behaviour is the source of the following dependency conflicts.\n",
            "requests 2.23.0 requires urllib3!=1.25.0,!=1.25.1,<1.26,>=1.21.1, but you have urllib3 1.26.9 which is incompatible.\n",
            "datascience 0.10.6 requires folium==0.2.1, but you have folium 0.8.3 which is incompatible.\u001b[0m\n",
            "Successfully installed async-generator-1.10 cryptography-36.0.2 h11-0.13.0 outcome-1.1.0 pyOpenSSL-22.0.0 selenium-4.1.3 sniffio-1.2.0 trio-0.20.0 trio-websocket-0.9.2 urllib3-1.26.9 wsproto-1.1.0\n"
          ]
        }
      ]
    },
    {
      "cell_type": "code",
      "source": [
        "pip install --upgrade selenium"
      ],
      "metadata": {
        "colab": {
          "base_uri": "https://localhost:8080/"
        },
        "id": "JDkST2SGD6T-",
        "outputId": "d07c6818-9151-486b-e355-82acb206db91"
      },
      "execution_count": 3,
      "outputs": [
        {
          "output_type": "stream",
          "name": "stdout",
          "text": [
            "Requirement already satisfied: selenium in /usr/local/lib/python3.7/dist-packages (4.1.3)\n",
            "Requirement already satisfied: trio-websocket~=0.9 in /usr/local/lib/python3.7/dist-packages (from selenium) (0.9.2)\n",
            "Requirement already satisfied: urllib3[secure,socks]~=1.26 in /usr/local/lib/python3.7/dist-packages (from selenium) (1.26.9)\n",
            "Requirement already satisfied: trio~=0.17 in /usr/local/lib/python3.7/dist-packages (from selenium) (0.20.0)\n",
            "Requirement already satisfied: idna in /usr/local/lib/python3.7/dist-packages (from trio~=0.17->selenium) (2.10)\n",
            "Requirement already satisfied: sniffio in /usr/local/lib/python3.7/dist-packages (from trio~=0.17->selenium) (1.2.0)\n",
            "Requirement already satisfied: sortedcontainers in /usr/local/lib/python3.7/dist-packages (from trio~=0.17->selenium) (2.4.0)\n",
            "Requirement already satisfied: outcome in /usr/local/lib/python3.7/dist-packages (from trio~=0.17->selenium) (1.1.0)\n",
            "Requirement already satisfied: attrs>=19.2.0 in /usr/local/lib/python3.7/dist-packages (from trio~=0.17->selenium) (21.4.0)\n",
            "Requirement already satisfied: async-generator>=1.9 in /usr/local/lib/python3.7/dist-packages (from trio~=0.17->selenium) (1.10)\n",
            "Requirement already satisfied: wsproto>=0.14 in /usr/local/lib/python3.7/dist-packages (from trio-websocket~=0.9->selenium) (1.1.0)\n",
            "Requirement already satisfied: PySocks!=1.5.7,<2.0,>=1.5.6 in /usr/local/lib/python3.7/dist-packages (from urllib3[secure,socks]~=1.26->selenium) (1.7.1)\n",
            "Requirement already satisfied: pyOpenSSL>=0.14 in /usr/local/lib/python3.7/dist-packages (from urllib3[secure,socks]~=1.26->selenium) (22.0.0)\n",
            "Requirement already satisfied: cryptography>=1.3.4 in /usr/local/lib/python3.7/dist-packages (from urllib3[secure,socks]~=1.26->selenium) (36.0.2)\n",
            "Requirement already satisfied: certifi in /usr/local/lib/python3.7/dist-packages (from urllib3[secure,socks]~=1.26->selenium) (2021.10.8)\n",
            "Requirement already satisfied: cffi>=1.12 in /usr/local/lib/python3.7/dist-packages (from cryptography>=1.3.4->urllib3[secure,socks]~=1.26->selenium) (1.15.0)\n",
            "Requirement already satisfied: pycparser in /usr/local/lib/python3.7/dist-packages (from cffi>=1.12->cryptography>=1.3.4->urllib3[secure,socks]~=1.26->selenium) (2.21)\n",
            "Requirement already satisfied: h11<1,>=0.9.0 in /usr/local/lib/python3.7/dist-packages (from wsproto>=0.14->trio-websocket~=0.9->selenium) (0.13.0)\n",
            "Requirement already satisfied: typing-extensions in /usr/local/lib/python3.7/dist-packages (from h11<1,>=0.9.0->wsproto>=0.14->trio-websocket~=0.9->selenium) (3.10.0.2)\n"
          ]
        }
      ]
    },
    {
      "cell_type": "code",
      "source": [
        "pip uninstall webdriver_manager"
      ],
      "metadata": {
        "colab": {
          "base_uri": "https://localhost:8080/"
        },
        "id": "2AMxh88QGF79",
        "outputId": "d7151e97-c30c-4534-e0d4-2c723fe67cbc"
      },
      "execution_count": 4,
      "outputs": [
        {
          "output_type": "stream",
          "name": "stdout",
          "text": [
            "\u001b[33mWARNING: Skipping webdriver-manager as it is not installed.\u001b[0m\n"
          ]
        }
      ]
    },
    {
      "cell_type": "code",
      "source": [
        "pip install webdriver_manager"
      ],
      "metadata": {
        "colab": {
          "base_uri": "https://localhost:8080/"
        },
        "id": "jUqqYvBGEad3",
        "outputId": "7b29c4f0-511d-4cff-c059-2589caac2457"
      },
      "execution_count": 4,
      "outputs": [
        {
          "output_type": "stream",
          "name": "stdout",
          "text": [
            "Collecting webdriver_manager\n",
            "  Downloading webdriver_manager-3.5.4-py2.py3-none-any.whl (18 kB)\n",
            "Requirement already satisfied: requests in /usr/local/lib/python3.7/dist-packages (from webdriver_manager) (2.23.0)\n",
            "Collecting urllib3!=1.25.0,!=1.25.1,<1.26,>=1.21.1\n",
            "  Downloading urllib3-1.25.11-py2.py3-none-any.whl (127 kB)\n",
            "\u001b[K     |████████████████████████████████| 127 kB 32.0 MB/s \n",
            "\u001b[?25hRequirement already satisfied: certifi>=2017.4.17 in /usr/local/lib/python3.7/dist-packages (from requests->webdriver_manager) (2021.10.8)\n",
            "Requirement already satisfied: idna<3,>=2.5 in /usr/local/lib/python3.7/dist-packages (from requests->webdriver_manager) (2.10)\n",
            "Requirement already satisfied: chardet<4,>=3.0.2 in /usr/local/lib/python3.7/dist-packages (from requests->webdriver_manager) (3.0.4)\n",
            "Installing collected packages: urllib3, webdriver-manager\n",
            "  Attempting uninstall: urllib3\n",
            "    Found existing installation: urllib3 1.26.9\n",
            "    Uninstalling urllib3-1.26.9:\n",
            "      Successfully uninstalled urllib3-1.26.9\n",
            "\u001b[31mERROR: pip's dependency resolver does not currently take into account all the packages that are installed. This behaviour is the source of the following dependency conflicts.\n",
            "selenium 4.1.3 requires urllib3[secure,socks]~=1.26, but you have urllib3 1.25.11 which is incompatible.\n",
            "datascience 0.10.6 requires folium==0.2.1, but you have folium 0.8.3 which is incompatible.\u001b[0m\n",
            "Successfully installed urllib3-1.25.11 webdriver-manager-3.5.4\n"
          ]
        }
      ]
    },
    {
      "cell_type": "code",
      "source": [
        "# pip install --upgrade selenium\n",
        "# pip install webdriver_manager\n",
        "\n",
        "from selenium import webdriver\n",
        "from selenium.webdriver.common.keys import Keys\n",
        "from selenium.webdriver.chrome.service import Service\n",
        "from selenium.webdriver.common.by import By\n",
        "from webdriver_manager.chrome import ChromeDriverManager  # 크롬드라이버 자동업데이트\n",
        "import time\n",
        "\n",
        "#service = Service(executable_path=ChromeDriverManager().install())\n",
        "#browser = webdriver.Chrome(service=service)\n",
        "#이게 오류가 나서...ㅜㅜㅜ"
      ],
      "metadata": {
        "id": "BN05Y4C-D5hR"
      },
      "execution_count": 5,
      "outputs": []
    },
    {
      "cell_type": "code",
      "source": [
        "#!pip install selenium\n",
        "#!apt-get update # to update ubuntu to correctly run apt install\n",
        "!apt install chromium-chromedriver\n",
        "!cp /usr/lib/chromium-browser/chromedriver /usr/bin\n",
        "#import sys\n",
        "#sys.path.insert(0,'/usr/lib/chromium-browser/chromedriver')\n",
        "#from selenium import webdriver\n",
        "chrome_options = webdriver.ChromeOptions()\n",
        "chrome_options.add_argument('--headless')\n",
        "chrome_options.add_argument('--no-sandbox')\n",
        "chrome_options.add_argument('--disable-dev-shm-usage')\n",
        "browser = webdriver.Chrome('chromedriver',chrome_options=chrome_options)\n"
      ],
      "metadata": {
        "colab": {
          "base_uri": "https://localhost:8080/"
        },
        "id": "Ydm5sH8vEwKy",
        "outputId": "7d5d5678-737f-4ec4-81be-53bcf296284f"
      },
      "execution_count": 6,
      "outputs": [
        {
          "output_type": "stream",
          "name": "stdout",
          "text": [
            "Reading package lists... Done\n",
            "Building dependency tree       \n",
            "Reading state information... Done\n",
            "The following additional packages will be installed:\n",
            "  chromium-browser chromium-browser-l10n chromium-codecs-ffmpeg-extra\n",
            "Suggested packages:\n",
            "  webaccounts-chromium-extension unity-chromium-extension\n",
            "The following NEW packages will be installed:\n",
            "  chromium-browser chromium-browser-l10n chromium-chromedriver\n",
            "  chromium-codecs-ffmpeg-extra\n",
            "0 upgraded, 4 newly installed, 0 to remove and 39 not upgraded.\n",
            "Need to get 88.3 MB of archives.\n",
            "After this operation, 294 MB of additional disk space will be used.\n",
            "Get:1 http://archive.ubuntu.com/ubuntu bionic-updates/universe amd64 chromium-codecs-ffmpeg-extra amd64 99.0.4844.51-0ubuntu0.18.04.1 [1,143 kB]\n",
            "Get:2 http://archive.ubuntu.com/ubuntu bionic-updates/universe amd64 chromium-browser amd64 99.0.4844.51-0ubuntu0.18.04.1 [77.6 MB]\n",
            "Get:3 http://archive.ubuntu.com/ubuntu bionic-updates/universe amd64 chromium-browser-l10n all 99.0.4844.51-0ubuntu0.18.04.1 [4,388 kB]\n",
            "Get:4 http://archive.ubuntu.com/ubuntu bionic-updates/universe amd64 chromium-chromedriver amd64 99.0.4844.51-0ubuntu0.18.04.1 [5,092 kB]\n",
            "Fetched 88.3 MB in 2s (52.3 MB/s)\n",
            "Selecting previously unselected package chromium-codecs-ffmpeg-extra.\n",
            "(Reading database ... 156210 files and directories currently installed.)\n",
            "Preparing to unpack .../chromium-codecs-ffmpeg-extra_99.0.4844.51-0ubuntu0.18.04.1_amd64.deb ...\n",
            "Unpacking chromium-codecs-ffmpeg-extra (99.0.4844.51-0ubuntu0.18.04.1) ...\n",
            "Selecting previously unselected package chromium-browser.\n",
            "Preparing to unpack .../chromium-browser_99.0.4844.51-0ubuntu0.18.04.1_amd64.deb ...\n",
            "Unpacking chromium-browser (99.0.4844.51-0ubuntu0.18.04.1) ...\n",
            "Selecting previously unselected package chromium-browser-l10n.\n",
            "Preparing to unpack .../chromium-browser-l10n_99.0.4844.51-0ubuntu0.18.04.1_all.deb ...\n",
            "Unpacking chromium-browser-l10n (99.0.4844.51-0ubuntu0.18.04.1) ...\n",
            "Selecting previously unselected package chromium-chromedriver.\n",
            "Preparing to unpack .../chromium-chromedriver_99.0.4844.51-0ubuntu0.18.04.1_amd64.deb ...\n",
            "Unpacking chromium-chromedriver (99.0.4844.51-0ubuntu0.18.04.1) ...\n",
            "Setting up chromium-codecs-ffmpeg-extra (99.0.4844.51-0ubuntu0.18.04.1) ...\n",
            "Setting up chromium-browser (99.0.4844.51-0ubuntu0.18.04.1) ...\n",
            "update-alternatives: using /usr/bin/chromium-browser to provide /usr/bin/x-www-browser (x-www-browser) in auto mode\n",
            "update-alternatives: using /usr/bin/chromium-browser to provide /usr/bin/gnome-www-browser (gnome-www-browser) in auto mode\n",
            "Setting up chromium-chromedriver (99.0.4844.51-0ubuntu0.18.04.1) ...\n",
            "Setting up chromium-browser-l10n (99.0.4844.51-0ubuntu0.18.04.1) ...\n",
            "Processing triggers for man-db (2.8.3-2ubuntu0.1) ...\n",
            "Processing triggers for hicolor-icon-theme (0.17-2) ...\n",
            "Processing triggers for mime-support (3.60ubuntu1) ...\n",
            "Processing triggers for libc-bin (2.27-3ubuntu1.3) ...\n",
            "/sbin/ldconfig.real: /usr/local/lib/python3.7/dist-packages/ideep4py/lib/libmkldnn.so.0 is not a symbolic link\n",
            "\n",
            "cp: '/usr/lib/chromium-browser/chromedriver' and '/usr/bin/chromedriver' are the same file\n"
          ]
        },
        {
          "output_type": "stream",
          "name": "stderr",
          "text": [
            "/usr/local/lib/python3.7/dist-packages/ipykernel_launcher.py:12: DeprecationWarning: use options instead of chrome_options\n",
            "  if sys.path[0] == '':\n"
          ]
        }
      ]
    },
    {
      "cell_type": "code",
      "source": [
        "#웹페이지주소이동\n",
        "browser.get(\"https://www.naver.com\")\n",
        "time.sleep(2)\n",
        "\n",
        "browser.find_element(By.CSS_SELECTOR,'a.nav.shop').click()\n",
        "time.sleep(1)\n",
        "\n",
        "#검색창 찾기 = 클릭\n",
        "search = browser.find_element(By.CSS_SELECTOR, 'input.co_srh_input._input ')\n",
        "\n",
        "#검색어 입력\n",
        "search.send_keys('아이폰13')\n",
        "search.send_keys(Keys.ENTER)\n",
        "time.sleep(2)\n",
        "\n",
        "\n",
        "\n",
        "# 스크롤 전 높이\n",
        "before_h = browser.execute_script(\"return window.scrollY\") #execute_script = 자바스크립트 명령어 실행\n",
        "\n",
        "# 무한 스크롤 - 반복문\n",
        "while True:\n",
        "    # 맨 아래로 스크롤을 내린다. body = 모든 웹사이트에 존재\n",
        "    # 키보드의 END키 누르면 웹페이지 맨아래로이동\n",
        "    browser.find_element(By.CSS_SELECTOR, \"body\").send_keys(Keys.END)\n",
        "    time.sleep(1) # 스크롤 사이 페이지 로딩시간\n",
        "    after_h = browser.execute_script(\"return window.scrollY\")\n",
        "\n",
        "    if after_h == before_h:\n",
        "        break\n",
        "    before_h = after_h  # 스크롤 후 높이가 다르면 before_h를 업데이트\n",
        "\n",
        "items = browser.find_elements(By.CSS_SELECTOR, 'li.basicList_item__2XT81')\n",
        "lst=[]\n",
        "i=1\n",
        "for item in items:\n",
        "  name = item.find_element(By.CSS_SELECTOR, 'div.basicList_title__3P9Q7').text\n",
        "  price = item.find_element(By.CSS_SELECTOR, 'span.price_num__2WUXn').text\n",
        "  link = item.find_element(By.CSS_SELECTOR, 'div > a.basicList_link__1MaTN').get_attribute('href')\n",
        "  print(i,name, price,link)\n",
        "  i += 1\n",
        "  \n",
        "\n"
      ],
      "metadata": {
        "colab": {
          "base_uri": "https://localhost:8080/"
        },
        "id": "lffIDl18IhOb",
        "outputId": "92c33cb5-5f48-45f5-b134-73e09501fd94"
      },
      "execution_count": 7,
      "outputs": [
        {
          "output_type": "stream",
          "name": "stdout",
          "text": [
            "1 Apple 아이폰 13 256GB [자급제] 1,149,930원 https://cr.shopping.naver.com/adcr.nhn?x=5ClrV0FBm9KuXY8cZHenj%2F%2F%2F%2Fw%3D%3DszIIc8JWMPbOyvKQEYYCevLpQ1Q4D7%2BVlwz0a5mnNpLyGgjNtjvRyY8TaEm3AQ5UwzpEVxBtDWLDY2PbVq59E8DyftcKG7rlpaSw1owdZUT2gdvPZT6mtcyGMULteZSQGyuzOrj6ySIWQiTdoN9nsVN9%2BKy%2Fm0d%2BgYWHtEf61Jo5CNclKwvLyA%2Fys%2F%2FHPPajLymj3I0Ayg2aYacGIsBoPOmNmcbgLr0lu2cCLGgyX7c9vsepmwRk8o%2FCB4DgHhnjVNALuDeijLcCWq8d5YA5j%2FzPDpGIrabitp2up06DaRfi54J8UO7LDGXdPU9Do8oyMXmq0wb8nQ9S1CNyVqQgAyN28KGKG8Ou6oCDaeXAY1wgVjQCpIk5kx4sJW2hrRfnKYYyQomAOCRwvaXv4BU13v%2F7G6gU%2BT04d9KDHq8TV%2FvGZzZyDfGo1SQoYRvXGDzWdJDnYvpfz%2Bh%2BZ6wVz3KJUXlU7hoT3oTlvWPL0X%2FR8212ZZd0C6e2Zyps4U6T5DErBOxilYCt%2Bs%2Fg5ZAbpoXoi2GcheUK1k30iIcDWhNZGV76tqaMHAJkj0DAJXiYJNZCZCXIMYKkzT061mzrwfgc%2F8O4e3ORvc6%2BxQN2rHm47VL0DfkLIyuldBS3f8m8e6nLmzUhNzs2VE%2B%2Bisqs3JAEppg%3D%3D&nvMid=29029192591&catId=50001519\n",
            "2 Apple 아이폰 13 미니 128GB [자급제] 902,460원 https://cr.shopping.naver.com/adcr.nhn?x=GOftR0LoE7dtyF2ZKM6oV%2F%2F%2F%2Fw%3D%3DsOhD0qLCAIfsSHXdxb8dLaTAmbvv9CSRZySphbEf9n%2FLrlQPyQuHoHFsppYbPEdHa0qy6vysiU4BGqH0v4wHUg1gBbXG7gxzcBP6VdkyFd2DyCLHTcxlT1fPeHgcUbFOMsbjaG10wrkM7pGaMdZZx%2F4ZnlrSZr8PDPdBCvs8uWtdeJxHcKH4rYUhc5SxvGs%2FQdLXJw816spD1TnVZPVLHLiJO7jbxAC%2FhHJnJbE9pD225SET%2FmTh%2Bwr3iKnDGr9FRDQSBnb42omhRrFXy5hX%2BBlBe6OKiF3i3QzSxpWT9t7NVXemfpmeX70wC2wQT5nyi5pxiwDZPU40LYzhHX%2FcRv6zKijPclnPLoM2zbbli72I9Z0SeMqENQcl4GV2BeGrFK98KaIZa4VBE0V5wqYGSToVNdyc%2FVOyqtUcRZRa4W3YKdxpmR%2FOe9hARgxC56kTdfY6%2FHjXTWDbDzPbx50kyUctCCDv3O8qpgwhizJk%2FVqJxsF7LFolFgeQFlnrP8JWR8jR8gVF8FlQ9pItE8Zzc8mBb%2FmvR7FV%2FXXJd2t%2BGZOVS6vIx6rerce5uWSUiYMxb%2BgtF15PMkmjkNDmi88yMRf8Q8yxCpch%2FsT%2Bw4wb1Tj1jtEEnHZo%2B%2FVuCJHvsmHjrDVCYCaeglF2rgr1u2OQIzQ%3D%3D&nvMid=29030650586&catId=50001519\n",
            "3 Apple 아이폰 13 프로 256GB [자급제] 1,385,000원 https://cr.shopping.naver.com/adcr.nhn?x=RIFPu7Sr%2FzcLvZlSJ5MwKv%2F%2F%2Fw%3D%3DsSqfQEad0fZZP2VJRs0s%2FGjm1RE9z2b4yORVj9izZoH6GgjNtjvRyY8TaEm3AQ5UwvSkdIOKJRUecOD%2BKX8vzFTyftcKG7rlpaSw1owdZUT2gdvPZT6mtcyGMULteZSQGyuzOrj6ySIWQiTdoN9nsVN9%2BKy%2Fm0d%2BgYWHtEf61Jo5CNclKwvLyA%2Fys%2F%2FHPPajL137zj6xS8KLGHM26HEneD2NmcbgLr0lu2cCLGgyX7c9vsepmwRk8o%2FCB4DgHhnjVNALuDeijLcCWq8d5YA5j%2FzPDpGIrabitp2up06DaRfi54J8UO7LDGXdPU9Do8oyMXmq0wb8nQ9S1CNyVqQgAyLVdAJQYDxgIxkFrIvf78wUVjQCpIk5kx4sJW2hrRfnKYYyQomAOCRwvaXv4BU13v9NWPGE1%2BN7%2BTgH1A8GupQyZzZyDfGo1SQoYRvXGDzWdJDnYvpfz%2Bh%2BZ6wVz3KJUXpoSJ4YK%2FhmXub29GG%2B9WM4PVL%2B%2Frl5PLPXtI0kaP8PkmKdeEMdUbtmzDI4Aa7HQcejZf8oD8KnMe3ZW%2FahKOrlsb7pVaPGw%2BoAYAX4rkUZf%2Fqy4FAfVXrxVJ0%2FiEW4NWLoDgh6RihNYzKWOmJgFwlgDfkLIyuldBS3f8m8e6nLmzUhNzs2VE%2B%2Bisqs3JAEppg%3D%3D&nvMid=29030492586&catId=50001519\n",
            "4 Apple 아이폰 13 128GB [자급제] 1,008,590원 https://cr.shopping.naver.com/adcr.nhn?x=Rw6vABTv3U1EuI6H7FoXdf%2F%2F%2Fw%3D%3Ds4ve4eZIcIRedZq3KqsfNpJDz1snn0JBRso%2FhkSrC2feGgjNtjvRyY8TaEm3AQ5UwA3CPU5GjV8d%2FWI9Fs%2FM3mzyftcKG7rlpaSw1owdZUT2gdvPZT6mtcyGMULteZSQGyuzOrj6ySIWQiTdoN9nsVN9%2BKy%2Fm0d%2BgYWHtEf61Jo5CNclKwvLyA%2Fys%2F%2FHPPajL5rmSYJSQ7Q%2FSdegndTkuDGNmcbgLr0lu2cCLGgyX7c9vsepmwRk8o%2FCB4DgHhnjVNALuDeijLcCWq8d5YA5j%2FzPDpGIrabitp2up06DaRfi54J8UO7LDGXdPU9Do8oyMXmq0wb8nQ9S1CNyVqQgAyByns8A9xbmA3TmJ%2F6gjbP4VjQCpIk5kx4sJW2hrRfnKYYyQomAOCRwvaXv4BU13vz%2BNoOSr7iErlzdecUiQhkCZzZyDfGo1SQoYRvXGDzWdJDnYvpfz%2Bh%2BZ6wVz3KJUXn7N8hOagrgUUqgdkby1VcWZZd0C6e2Zyps4U6T5DErBvcQeIaAGIIQRnJcrzv7qxZSf1s4V30iwARLWJC1pu0KtqaMHAJkj0DAJXiYJNZCZ%2Bxu62otc32LjEQwKGsQ4JsPL%2B29b0yziLXB%2FPREhLN7LVWGr8fvvH1mWvUgXPK6j&nvMid=29030374587&catId=50001519\n",
            "5 Apple 아이폰 13 프로 128GB [자급제] 1,255,000원 https://cr.shopping.naver.com/adcr.nhn?x=goXoKTSWQBLVKv09dgIqvf%2F%2F%2Fw%3D%3DsrSrqzxB146ZiJ%2FCm5JJ%2FVnnWpOJyVLr7IPu%2FMHQ%2FUySGgjNtjvRyY8TaEm3AQ5Uw063pwCSLzDDoxsC3zh2H5TyftcKG7rlpaSw1owdZUT2gdvPZT6mtcyGMULteZSQGyuzOrj6ySIWQiTdoN9nsVN9%2BKy%2Fm0d%2BgYWHtEf61Jo5CNclKwvLyA%2Fys%2F%2FHPPajLTxs46ihXoVB%2B04WPMRzZJmNmcbgLr0lu2cCLGgyX7c9vsepmwRk8o%2FCB4DgHhnjVNALuDeijLcCWq8d5YA5j%2FzPDpGIrabitp2up06DaRfi54J8UO7LDGXdPU9Do8oyMXmq0wb8nQ9S1CNyVqQgAyEZXwRo0drGEIUbGeeG8IS0VjQCpIk5kx4sJW2hrRfnKYYyQomAOCRwvaXv4BU13vxZCMZEaRWmpjeUjAQujE%2FSZzZyDfGo1SQoYRvXGDzWdJDnYvpfz%2Bh%2BZ6wVz3KJUXov5TurvHzcmsFW4yXHzYi0PVL%2B%2Frl5PLPXtI0kaP8PkmKdeEMdUbtmzDI4Aa7HQcdSxxJWA%2FjS3fXgbeCkvJ%2FJYJm0P9cRx8rM91DitqPPlASIbJJHJxstflUn134TkkM3Qzgb8yBsiQYZbNFUVAhkDfkLIyuldBS3f8m8e6nLmzUhNzs2VE%2B%2Bisqs3JAEppg%3D%3D&nvMid=29030420587&catId=50001519\n",
            "6 Apple 아이폰 13 프로 맥스 256GB [자급제] 1,532,940원 https://cr.shopping.naver.com/adcr.nhn?x=U9eyU%2BJE3G0X9d8TZ9%2BtaP%2F%2F%2Fw%3D%3DszsXExaBWSRj1Lmaafe6W2FQ061PqVkPit1GP3HoWssKGgjNtjvRyY8TaEm3AQ5Uwa7MfScRlfCaf7pCsEVjHuzyftcKG7rlpaSw1owdZUT2gdvPZT6mtcyGMULteZSQGyuzOrj6ySIWQiTdoN9nsVN9%2BKy%2Fm0d%2BgYWHtEf61Jo5CNclKwvLyA%2Fys%2F%2FHPPajLFwJLY7jZl%2ByD9qyNvqbno2NmcbgLr0lu2cCLGgyX7c9vsepmwRk8o%2FCB4DgHhnjVNALuDeijLcCWq8d5YA5j%2FzPDpGIrabitp2up06DaRfi54J8UO7LDGXdPU9Do8oyMXmq0wb8nQ9S1CNyVqQgAyOuoN8TPi%2FD3rTl3RBz3r6EVjQCpIk5kx4sJW2hrRfnKYYyQomAOCRwvaXv4BU13v4BwPD7JzBPkkRc75i2yEimZzZyDfGo1SQoYRvXGDzWdJDnYvpfz%2Bh%2BZ6wVz3KJUXsds9B%2BMUzAQtFYI3wiD8cabXOdqtsjsMd83yLMTRkxvFFcURuJXcA9fpBODYEj4uncpFPyXoiGXrZHj5E1KTrYHxC79R3eM1Hf6xOx2nqXYiA3%2FU2AzguC84AnoS7Lq%2BTp%2F1UA9u7B%2BiaTVHj8vDRfbyI9Ls2RCnGujwoTHpoEbDhLBwu%2FFQS5xWYf5w6G3jQ%3D%3D&nvMid=29030294588&catId=50001519\n",
            "7 Apple 아이폰 13 미니 256GB [자급제] 1,009,750원 https://cr.shopping.naver.com/adcr.nhn?x=L1GS9342onfJP%2B5jOmX1rv%2F%2F%2Fw%3D%3DsrcEewdo4GTgmEvxWzi0t%2Bmw%2FCaQfhGU2Cf24fqjXeWfrlQPyQuHoHFsppYbPEdHamU0NtDgt6WaFbAB8%2BVqwS5nr9nS3pbZPpk6rz%2BHZI2vyCLHTcxlT1fPeHgcUbFOMsbjaG10wrkM7pGaMdZZx%2F4ZnlrSZr8PDPdBCvs8uWtdeJxHcKH4rYUhc5SxvGs%2FQHFu7hQKMJ1DiSIn6Qv1RZSJO7jbxAC%2FhHJnJbE9pD225SET%2FmTh%2Bwr3iKnDGr9FRDQSBnb42omhRrFXy5hX%2BBlBe6OKiF3i3QzSxpWT9t7NVXemfpmeX70wC2wQT5nyi5pxiwDZPU40LYzhHX%2FcRv3oI3WQ%2B8YwGspXtClA%2BJcw9Z0SeMqENQcl4GV2BeGrFK98KaIZa4VBE0V5wqYGSTllWg2kUlp6tyFWXJJAHtrUKdxpmR%2FOe9hARgxC56kTdfY6%2FHjXTWDbDzPbx50kyURem8dI%2B1%2Bz0DteaIIx6oLNHvnooNqPrYNxtJrDRXqeG8jR8gVF8FlQ9pItE8Zzc8r5NC95ON18lj9BirJJaI%2F7OPCBWwJX2SzpUDezMNv0ojr%2Fvhuz%2FM2bOeEg7k3nONdfzzwQda0%2BsOt4TgDNJ7nT0UbNk5di1V8jUMbmtHii%2FBq7h9PA5SrIXrcWPClBGWw%3D%3D&nvMid=29030437590&catId=50001519\n",
            "8 Apple 아이폰 13 프로 맥스 128GB [자급제] 1,445,230원 https://cr.shopping.naver.com/adcr.nhn?x=17x1YWaA5mX62od3sA2jnf%2F%2F%2Fw%3D%3DsbhXuvBAILbvHXDB1n3Q%2F0xYPqek0Ox79vKGSLeG%2BkdCGgjNtjvRyY8TaEm3AQ5UwePrxJ7OKvUL7zZBjaMyUCjyftcKG7rlpaSw1owdZUT2gdvPZT6mtcyGMULteZSQGyuzOrj6ySIWQiTdoN9nsVN9%2BKy%2Fm0d%2BgYWHtEf61Jo5CNclKwvLyA%2Fys%2F%2FHPPajLCLK1IiVYHoJNpNr5Mls8y2NmcbgLr0lu2cCLGgyX7c9vsepmwRk8o%2FCB4DgHhnjVNALuDeijLcCWq8d5YA5j%2FzPDpGIrabitp2up06DaRfi54J8UO7LDGXdPU9Do8oyMXmq0wb8nQ9S1CNyVqQgAyN8ys4DnkvAvvtkEcY%2FiUwIVjQCpIk5kx4sJW2hrRfnKYYyQomAOCRwvaXv4BU13v13vpX8wxNxp8OPthzopGpuZzZyDfGo1SQoYRvXGDzWdJDnYvpfz%2Bh%2BZ6wVz3KJUXsds9B%2BMUzAQtFYI3wiD8caQ%2FT8cRphjMXBFuIxjnx36FFcURuJXcA9fpBODYEj4uvaO9cTJ6rSlBsd0TC0nBIwGREt%2BXgWKrczs44gHwzVciA3%2FU2AzguC84AnoS7Lq%2BapAKc95Je0E8Q02RI3UbVxXmv8AqTuPh3gqomFQaODPDhLBwu%2FFQS5xWYf5w6G3jQ%3D%3D&nvMid=29030367587&catId=50001519\n",
            "9 Apple 아이폰 13 프로 맥스 512GB [자급제] 1,781,250원 https://cr.shopping.naver.com/adcr.nhn?x=W4JLy%2Fxwfv3CvDd%2FJ8aUlP%2F%2F%2Fw%3D%3DstyQ8vruEoFiFLcna4HGHXSrl%2Bj5q2ACwx8MYynIn4c%2BGgjNtjvRyY8TaEm3AQ5UwIx4VeFRu3KYWZiwUjpXFezyftcKG7rlpaSw1owdZUT2gdvPZT6mtcyGMULteZSQGyuzOrj6ySIWQiTdoN9nsVN9%2BKy%2Fm0d%2BgYWHtEf61Jo5CNclKwvLyA%2Fys%2F%2FHPPajLTOU9n1bTq7tWXjznfA1Q12NmcbgLr0lu2cCLGgyX7c9vsepmwRk8o%2FCB4DgHhnjVNALuDeijLcCWq8d5YA5j%2FzPDpGIrabitp2up06DaRfi54J8UO7LDGXdPU9Do8oyMXmq0wb8nQ9S1CNyVqQgAyMTK7SlbEtk1uut34rbnwuYVjQCpIk5kx4sJW2hrRfnKYYyQomAOCRwvaXv4BU13v6Gi4IGxpUE%2FCcJXW72IVk%2BZzZyDfGo1SQoYRvXGDzWdJDnYvpfz%2Bh%2BZ6wVz3KJUXsds9B%2BMUzAQtFYI3wiD8cZlPAmOrFekIWjt9jg2%2By1jFFcURuJXcA9fpBODYEj4ujTaLVTowASY8dTSt1bXfvOg6UFqx9f0LcwaUJTe%2FDqSiA3%2FU2AzguC84AnoS7Lq%2BeG6Nx0R2gcOedqk%2BTGmi8eTgHvhvJ0uimaqsSsQ4eRuDhLBwu%2FFQS5xWYf5w6G3jQ%3D%3D&nvMid=29029192586&catId=50001519\n",
            "10 Apple 아이폰 13 프로 512GB [자급제] 1,609,900원 https://cr.shopping.naver.com/adcr.nhn?x=RrcxQcTpr938BllsQAoIdP%2F%2F%2Fw%3D%3Ds8ybM5y7%2Fg28Lk5CAg%2BuufP2682f3Nnf56K2lTQseaFTrlQPyQuHoHFsppYbPEdHawoSWSyc4ooKgeFnDvZ9G6RzLR%2FXzzFPgGVLNYpANhMHyCLHTcxlT1fPeHgcUbFOMsbjaG10wrkM7pGaMdZZx%2F4ZnlrSZr8PDPdBCvs8uWtdeJxHcKH4rYUhc5SxvGs%2FQ4JqcN%2FBxxv5wjdahLDrWxyJO7jbxAC%2FhHJnJbE9pD225SET%2FmTh%2Bwr3iKnDGr9FRDQSBnb42omhRrFXy5hX%2BBlBe6OKiF3i3QzSxpWT9t7NVXemfpmeX70wC2wQT5nyi5pxiwDZPU40LYzhHX%2FcRv7pWqUhZR6wldXO0YiaZrxI9Z0SeMqENQcl4GV2BeGrFK98KaIZa4VBE0V5wqYGSTsm7lcfvMhVQyLgtqPxoG3wKdxpmR%2FOe9hARgxC56kTdfY6%2FHjXTWDbDzPbx50kyUSeJL2t3c6r95TKEQLGoh4cWD%2BrNa4qE%2Bx%2FvqVwvK7Ta8jR8gVF8FlQ9pItE8Zzc8lJW8iEC4JdmzaU8MPyy260o8y3QNRi3FXAXEc%2Btledmjr%2Fvhuz%2FM2bOeEg7k3nONZdETEuJC%2BiqrUHQxxgKrQvAjvHbKujLraF8ZWxiIpqOQdAiJdwXirBRdnaxfvrBbw%3D%3D&nvMid=29030416587&catId=50001519\n",
            "11 Apple 아이폰 13 미니 512GB [자급제] 1,259,000원 https://cr.shopping.naver.com/adcr.nhn?x=fao1LYsVpcV7%2BhR4RdNFvv%2F%2F%2Fw%3D%3Ds3Vm8MSqy%2B4zDw5Das70iJqMQMxK7lfhq4UybHUry2FDrlQPyQuHoHFsppYbPEdHaqejjX4HiTG8kJrDxi5083MY%2BMjEPQL14Ig6MiUL89oLyCLHTcxlT1fPeHgcUbFOMsbjaG10wrkM7pGaMdZZx%2F4ZnlrSZr8PDPdBCvs8uWtdeJxHcKH4rYUhc5SxvGs%2FQ5eJoxHy7F9pVayzIa84fuyJO7jbxAC%2FhHJnJbE9pD225SET%2FmTh%2Bwr3iKnDGr9FRDQSBnb42omhRrFXy5hX%2BBlBe6OKiF3i3QzSxpWT9t7NVXemfpmeX70wC2wQT5nyi5pxiwDZPU40LYzhHX%2FcRv0MHbKfrjpSkg7e6i946%2F9g9Z0SeMqENQcl4GV2BeGrFK98KaIZa4VBE0V5wqYGSTnk7fogoobarSJssoOFFF5UKdxpmR%2FOe9hARgxC56kTdfY6%2FHjXTWDbDzPbx50kyUUL8CDsR2GxHr6Pm4W9wYJYWD%2BrNa4qE%2Bx%2FvqVwvK7Ta8jR8gVF8FlQ9pItE8Zzc8kkD8NIDYLAbwyJ7TYM8lpN5DE57RtfrlYCbNHztQ3CKjr%2Fvhuz%2FM2bOeEg7k3nONXoFGkHc2H16%2B8fpsCYuHEBxsiGeHNNP%2FFK%2BqsocGKBcQdAiJdwXirBRdnaxfvrBbw%3D%3D&nvMid=29030296587&catId=50001519\n",
            "12 Apple 아이폰 13 프로 맥스 1TB [자급제] 2,033,950원 https://cr.shopping.naver.com/adcr.nhn?x=L%2B7R8MKd4774DzUZdsAsZv%2F%2F%2Fw%3D%3DsRSk0pVoi7E9lV9udx7ghOrXedi7ydZ2ytZq15wNnNtnrlQPyQuHoHFsppYbPEdHaTpzgMf4EU2JemI%2FIqriApBVsa5Jjq6Z29GK%2BcFTxX%2FryCLHTcxlT1fPeHgcUbFOMsbjaG10wrkM7pGaMdZZx%2F4ZnlrSZr8PDPdBCvs8uWtdeJxHcKH4rYUhc5SxvGs%2FQpzgsJ2kpGxXbBjzCtpBxWyJO7jbxAC%2FhHJnJbE9pD225SET%2FmTh%2Bwr3iKnDGr9FRDQSBnb42omhRrFXy5hX%2BBlBe6OKiF3i3QzSxpWT9t7NVXemfpmeX70wC2wQT5nyi5pxiwDZPU40LYzhHX%2FcRv6jjHfxJrW6jd2XzWZh1MeY9Z0SeMqENQcl4GV2BeGrFK98KaIZa4VBE0V5wqYGSTkQptKfok8A3Gqgse4ggZ2cKdxpmR%2FOe9hARgxC56kTdfY6%2FHjXTWDbDzPbx50kyUd5TwUlrPPAA7xkROGh7c%2FIdInBmZUI7xsGJvU%2Fln4TpJQ7%2B%2B64EKB%2FCwjrIJoRho2LyPDWRgylYE96MH4EkL2bSX4AFJ%2FZn0qOaQDmYvQnaDWrhHEcp0p%2F%2FKKziu53PdKyMqL4%2BcaeKlO1hbmf%2BPM2VcUgn7SOTo80ANCE5TX6By1Vhq%2FH77x9Zlr1IFzyuow%3D%3D&nvMid=29029192590&catId=50001519\n",
            "13 Apple 아이폰 13 미니 128GB [LG U+] 85,990원 https://cr.shopping.naver.com/adcr.nhn?x=UL7gLxaEWhPJCzRVim21D%2F%2F%2F%2Fw%3D%3Ds8cqCV6pDOg%2FBC7UhXV6cbZ9Wo0tz2ROQu2ntOunKwYzrlQPyQuHoHFsppYbPEdHaSHjOFh7MprEgTVi1WniYuVgBbXG7gxzcBP6VdkyFd2DyCLHTcxlT1fPeHgcUbFOMsbjaG10wrkM7pGaMdZZx%2F4ZnlrSZr8PDPdBCvs8uWtdeJxHcKH4rYUhc5SxvGs%2FQ7pbwbHSh%2FX5BFJKMjiN3fSJO7jbxAC%2FhHJnJbE9pD225SET%2FmTh%2Bwr3iKnDGr9FRDQSBnb42omhRrFXy5hX%2BBlBe6OKiF3i3QzSxpWT9t7NVXemfpmeX70wC2wQT5nyi5pxiwDZPU40LYzhHX%2FcRv7zegF8eLGyHOgi%2Fu7XkI%2Fo9Z0SeMqENQcl4GV2BeGrFwu4MT6sJGdDPz84qqx16D7FzrfWw9foYrFRnhEJrILEKdxpmR%2FOe9hARgxC56kTdfY6%2FHjXTWDbDzPbx50kyUctCCDv3O8qpgwhizJk%2FVqI%2BYS%2F%2BLHYOR26DZYLoloGYQbJE2qH6sAOiEA%2FCWTmW%2B%2FE7Se9FfT5jXSyDz2drgazLtD%2BflYcx6RNXB2X3qNkXCdEHD%2FHV8hpTSILi5JBNPe6B%2Bs8N1OLvWDBbI2KdH13ke%2FVP%2BgM94BPZkP5YJ%2Bex&nvMid=29030431586&catId=50000248\n",
            "14 Apple 아이폰 13 512GB [자급제] 1,328,900원 https://cr.shopping.naver.com/adcr.nhn?x=eSqO3Ft9gxRNfoYULSrdVf%2F%2F%2Fw%3D%3Dsy634KJvRKYEZ2D4Xgb8S7R8Laif5FICMESjaw9m6tpmGgjNtjvRyY8TaEm3AQ5UwZ7%2Fk76Ls0ycIh0oHsBPh6zyftcKG7rlpaSw1owdZUT2gdvPZT6mtcyGMULteZSQGyuzOrj6ySIWQiTdoN9nsVN9%2BKy%2Fm0d%2BgYWHtEf61Jo5CNclKwvLyA%2Fys%2F%2FHPPajLMeLn3DEnnxE0ondyd3T%2BMGNmcbgLr0lu2cCLGgyX7c9vsepmwRk8o%2FCB4DgHhnjVNALuDeijLcCWq8d5YA5j%2FzPDpGIrabitp2up06DaRfi54J8UO7LDGXdPU9Do8oyMXmq0wb8nQ9S1CNyVqQgAyLavTR%2Bn5fmA%2Bf0A6XTnTugVjQCpIk5kx4sJW2hrRfnKYYyQomAOCRwvaXv4BU13vw2Khdz52rX5sOqml3Nqyl6ZzZyDfGo1SQoYRvXGDzWdJDnYvpfz%2Bh%2BZ6wVz3KJUXtDtNJ3ikS3CYZIkRqfStoeZZd0C6e2Zyps4U6T5DErBvcQeIaAGIIQRnJcrzv7qxeNI0irwk25iBcJGCTP%2BuzGtqaMHAJkj0DAJXiYJNZCZrqKEmIdUP7C3rDZHc16lZGehG3nRHRm%2BairNZH595FpoaKZHilHbuauHUigNM5KA&nvMid=29030496586&catId=50001519\n",
            "15 Apple 아이폰 13 프로 256GB [LG U+] 831,690원 https://cr.shopping.naver.com/adcr.nhn?x=CwB14vx5RfmISYec3HEQZP%2F%2F%2Fw%3D%3DsMhshAVg8Scfxpga1nf3%2Fgt0XqIuRjYHucEOMUdsO7xqGgjNtjvRyY8TaEm3AQ5Uw9wXba8UiaXgzvXfN8wULEjyftcKG7rlpaSw1owdZUT2gdvPZT6mtcyGMULteZSQGyuzOrj6ySIWQiTdoN9nsVN9%2BKy%2Fm0d%2BgYWHtEf61Jo5CNclKwvLyA%2Fys%2F%2FHPPajL%2FchmJsHbf2PpzOdNGLpJCWNmcbgLr0lu2cCLGgyX7c9vsepmwRk8o%2FCB4DgHhnjVNALuDeijLcCWq8d5YA5j%2FzPDpGIrabitp2up06DaRfi54J8UO7LDGXdPU9Do8oyMXmq0wb8nQ9S1CNyVqQgAyG%2Fk%2F20v2QwY0BQ3QOEq%2BJkVjQCpIk5kx4sJW2hrRfnKqwZ9aKCnp%2BOD2OzgCp1jz%2FCFTvMPs8reyXJy9QfCQCqZzZyDfGo1SQoYRvXGDzWdJDnYvpfz%2Bh%2BZ6wVz3KJUXpoSJ4YK%2FhmXub29GG%2B9WM7pLKfV7lHXkGfYNhWiUOPtINRw1QNF%2FOPJXb5%2B358LYElaNpnMb7gXG0uwC9CIn%2FzvW2q1ZBpuV%2F%2FvtKUgTGHn%2FEz2RfhfsUtgxIZmUnaQVY%2BYF6UyGV%2FtF39Ikw3lHUTHICEQpPL7Rm%2B2fyhjEhHR&nvMid=29030415586&catId=50000248\n",
            "16 Apple 아이폰 13 미니 256GB [LG U+] 194,000원 https://cr.shopping.naver.com/adcr.nhn?x=T8YPO0HrAP4vi4MyY2A0EP%2F%2F%2Fw%3D%3DsBrgQc%2FE9jf712WfUYE5FFV%2FnBgSL6mKL6DzN2QH54kzrlQPyQuHoHFsppYbPEdHaLgUGHOLkHfHQc3w1OgLhxJNxvHKqt%2BtNJJqCql3%2BDpHyCLHTcxlT1fPeHgcUbFOMsbjaG10wrkM7pGaMdZZx%2F4ZnlrSZr8PDPdBCvs8uWtdeJxHcKH4rYUhc5SxvGs%2FQnwz90lFjKTTi05jxFVvTqSJO7jbxAC%2FhHJnJbE9pD225SET%2FmTh%2Bwr3iKnDGr9FRDQSBnb42omhRrFXy5hX%2BBlBe6OKiF3i3QzSxpWT9t7NVXemfpmeX70wC2wQT5nyi5pxiwDZPU40LYzhHX%2FcRv6ru%2FKRW3kdIua8GHa0pSrw9Z0SeMqENQcl4GV2BeGrFwu4MT6sJGdDPz84qqx16D6GGriSp6wL4CwjEZFBoKkwKdxpmR%2FOe9hARgxC56kTdfY6%2FHjXTWDbDzPbx50kyURem8dI%2B1%2Bz0DteaIIx6oLNPJ5Cu9OOR3XG14JdkLoZkQbJE2qH6sAOiEA%2FCWTmW%2B8VwB0BEmZZLCURm2b%2F0gxZf3W9zuzx85ttBJ4MX34Ne20Duw%2Bj0%2BlH1B5IcgnFCHAzKdt%2F41jSWRqIV2J8msVVWhZ3SMHTcLlpircdRzUgq1JIslBmdxaTx7xO1%2BPPoWw%3D%3D&nvMid=29030376589&catId=50000248\n",
            "17 Apple 아이폰 13 프로 1TB [자급제] 1,902,850원 https://cr.shopping.naver.com/adcr.nhn?x=tPlwKr33lCYpO9srOh4wwv%2F%2F%2Fw%3D%3DsE8c2vzOOzTnHx5G1TjYX7kDnkCIbC7sqYsCqic9nJYzrlQPyQuHoHFsppYbPEdHaU2cFVzaiNKscTQCdspfR%2F5nr9nS3pbZPpk6rz%2BHZI2vyCLHTcxlT1fPeHgcUbFOMsbjaG10wrkM7pGaMdZZx%2F4ZnlrSZr8PDPdBCvs8uWtdeJxHcKH4rYUhc5SxvGs%2FQGZnc9CBLSwMg3sa%2BhbPIjiJO7jbxAC%2FhHJnJbE9pD225SET%2FmTh%2Bwr3iKnDGr9FRDQSBnb42omhRrFXy5hX%2BBlBe6OKiF3i3QzSxpWT9t7NVXemfpmeX70wC2wQT5nyi5pxiwDZPU40LYzhHX%2FcRvy6Xv6l46O7VnAS1yhsDJ249Z0SeMqENQcl4GV2BeGrFK98KaIZa4VBE0V5wqYGSTiPOwRC6ePOTcbfOexYPTWkKdxpmR%2FOe9hARgxC56kTdfY6%2FHjXTWDbDzPbx50kyUa%2BYPDMD9m7la%2BI9awrbzM4N%2FOXq06xFLlMCwNDQObjPLcqEhOiscytOptfh0D9%2BAq98RJE3qmnJpBQ8ppq9A09q8ud7fqMZHakThYFATDBav4YGjJCSIW1IvBxXT1wG94QkCql24Y3ImL4JXIz24UhjtEEnHZo%2B%2FVuCJHvsmHjrDVCYCaeglF2rgr1u2OQIzQ%3D%3D&nvMid=29029192588&catId=50001519\n",
            "18 Apple 아이폰 13 프로 128GB [LG U+] 632,000원 https://cr.shopping.naver.com/adcr.nhn?x=Dxl%2FeyXXj7qc5l0CfIuANf%2F%2F%2Fw%3D%3DsH5rg9dqe4TfYatZpA%2FlYG8%2Bf%2B53JpkBxmD6iVz5UKGlN4NgkrPIjlczCBjhk2dSMEBf4VN9PuR2tAegywgOg9%2FIt04q5QC6Q6WsfmXUlUtP4%2BmCJi%2FK8TLIf7yhdys3ujktDDoEasLD%2FF9QN7Il0X8v%2BjB2erv%2BZ%2Brrs5VHOiTQgGE7%2BZatKjf5hEf1XctkKrWq71kdTd6omjA%2BFW19tUZbkCnZt3PKDnGtnPfTpWXV9gLRMuJH34gK%2BdKxxm2wL%2F6dXjq24b53jN4rxXpfce6Lj%2BvSXPWhKT0BbyrMWxS%2Bk6v2w9jBqMGR4TTsgYaQnlII%2ByYYqWVu3SSXxcjEJdKpYSEFRMkeseg4%2FzOm6xu%2FUQvs8GHq%2Bj7OvUNvyviyxeoI3z%2BL14z9v%2Fx%2BL9Zw%2FKrR9FKy8z7W2%2BYb%2Fp77jVkcEdLuJh13gFOuABI1Cabywr1zQ3TaGfkdsxOv%2Bp53WSh1x3ZHEX3cnenvBUrcEg5P5YbLlxragaaIQX6kJDBj8D6QkZjCZcMNTR4jeTmX45VSh7h%2FdMHqjh%2FQIrv%2BDB38NauEcRynSn%2F8orOK7nc901MF2IvjnRAUwxnkCe3B8FEfkyga%2BBvcqePJDD%2Bi%2BuuPLVWGr8fvvH1mWvUgXPK6j&nvMid=29030175590&catId=50000248\n",
            "19 Apple 아이폰 13 미니 512GB [LG U+] 417,790원 https://cr.shopping.naver.com/adcr.nhn?x=ZnZZ71Xj%2FLUvmDrrbTIgd%2F%2F%2F%2Fw%3D%3DsRDkcQS1o%2F8ojTomTZ9rgQP%2FnsauLYSRZeMH4E925ByZN4NgkrPIjlczCBjhk2dSMFSySyFi0nwqA5noy%2BGSFGPIt04q5QC6Q6WsfmXUlUtP4%2BmCJi%2FK8TLIf7yhdys3ujktDDoEasLD%2FF9QN7Il0X8v%2BjB2erv%2BZ%2Brrs5VHOiTQgGE7%2BZatKjf5hEf1XctkKiUcxJt3KuQoVz4dC4LwqcZbkCnZt3PKDnGtnPfTpWXV9gLRMuJH34gK%2BdKxxm2wL%2F6dXjq24b53jN4rxXpfce6Lj%2BvSXPWhKT0BbyrMWxS%2Bk6v2w9jBqMGR4TTsgYaQnlII%2ByYYqWVu3SSXxcjEJdGTTKpgBueTtk4%2F5VdYPdz3UQvs8GHq%2Bj7OvUNvyviyxeoI3z%2BL14z9v%2Fx%2BL9Zw%2FKr8rTIOVPwRB9QzWGDf2%2BUQEdLuJh13gFOuABI1Cabywr1zQ3TaGfkdsxOv%2Bp53WSjwt7nBOa4olaWN8w934iK35YbLlxragaaIQX6kJDBj8D6QkZjCZcMNTR4jeTmX45QUvvQSKyJDeZZjW5uVWs44NauEcRynSn%2F8orOK7nc90gk0QigMrWgYIN4mwNKoR88swHy8dC5OSEP471I5X5RTLVWGr8fvvH1mWvUgXPK6j&nvMid=29030419586&catId=50000248\n",
            "20 Apple 아이폰 13 128GB [LG U+] 423,000원 https://cr.shopping.naver.com/adcr.nhn?x=YlBpFbVcYmqm14qYesaJC%2F%2F%2F%2Fw%3D%3Dshy8uBzcNRbbyFVyyR1eutpbBGmAFwLkfPXwtduFGgnFN4NgkrPIjlczCBjhk2dSMskNzzJEEBjUiDvHspvBe%2B%2FIt04q5QC6Q6WsfmXUlUtP4%2BmCJi%2FK8TLIf7yhdys3ujktDDoEasLD%2FF9QN7Il0X8v%2BjB2erv%2BZ%2Brrs5VHOiTQgGE7%2BZatKjf5hEf1XctkKGll8RgYOXbcr8LPyXLkSgZbkCnZt3PKDnGtnPfTpWXV9gLRMuJH34gK%2BdKxxm2wL%2F6dXjq24b53jN4rxXpfce6Lj%2BvSXPWhKT0BbyrMWxS%2Bk6v2w9jBqMGR4TTsgYaQnlII%2ByYYqWVu3SSXxcjEJdM8gkfYH%2FhlpMX1M6gmqKl%2FUQvs8GHq%2Bj7OvUNvyviyxeoI3z%2BL14z9v%2Fx%2BL9Zw%2FKpOVC1RHIUDXk8jQD21uW9UEdLuJh13gFOuABI1Cabywr1zQ3TaGfkdsxOv%2Bp53WStKWMVTtA07HCUp%2FbeQ6Tv27A%2F0vSPti8cHY4o2fastwN%2FJKacIlwQoZF%2FRZO2KyVmdMfAB3nGmIjlc0aznbTou%2FhgaMkJIhbUi8HFdPXAb31oELrgzNH52cw3o5YwfbDmO0QScdmj79W4Ike%2ByYeOsNUJgJp6CUXauCvW7Y5AjN&nvMid=29030372586&catId=50000248\n",
            "21 Apple 아이폰 13 프로 맥스 256GB [LG U+] 959,590원 https://cr.shopping.naver.com/adcr.nhn?x=1r%2Fxb4Dy8QtseUm2WdUTQv%2F%2F%2Fw%3D%3DsEBAdx0puT4J4gjN7719J9Ja6H2clXCCTX0jf%2BuioCNxN4NgkrPIjlczCBjhk2dSM8yK8jb0110MUPhxx1CeSY%2FIt04q5QC6Q6WsfmXUlUtP4%2BmCJi%2FK8TLIf7yhdys3ujktDDoEasLD%2FF9QN7Il0X8v%2BjB2erv%2BZ%2Brrs5VHOiTQgGE7%2BZatKjf5hEf1XctkKueIgl4DaUtF5%2B1EuLRDA5JbkCnZt3PKDnGtnPfTpWXV9gLRMuJH34gK%2BdKxxm2wL%2F6dXjq24b53jN4rxXpfce6Lj%2BvSXPWhKT0BbyrMWxS%2Bk6v2w9jBqMGR4TTsgYaQnlII%2ByYYqWVu3SSXxcjEJdKEmHWJxqTb6gVWm1vHHlrvUQvs8GHq%2Bj7OvUNvyviyxeoI3z%2BL14z9v%2Fx%2BL9Zw%2FKqqXgzFBNe%2B9GsspdK7tuxMEdLuJh13gFOuABI1Cabywr1zQ3TaGfkdsxOv%2Bp53WSmn2a%2BVfQD8FsYi0Ypk%2BtxGU7u6s4eGvcC%2BQhLTFP7rmSZv9Z3vZVGXYiyeb1%2FD5s%2BTSu%2FlA420N%2FUHaaqb6oZ6d8Zs%2BsdmF25ezfUdtILUHcABm3n1fOC7tYFqa%2BKBK7QS5d5HqgZHOEdfQLedCS30DfkLIyuldBS3f8m8e6nLmzUhNzs2VE%2B%2Bisqs3JAEppg%3D%3D&nvMid=29030190586&catId=50000248\n",
            "22 Apple 아이폰 13 프로 맥스 128GB [LG U+] 899,000원 https://cr.shopping.naver.com/adcr.nhn?x=WnTLJKAIaOw%2B%2FJ1Xcu6zHv%2F%2F%2Fw%3D%3DsxcWgxl0IJAzMHe2wXy7W0g1qmYSnMO2uQPH9%2Bx9L11NN4NgkrPIjlczCBjhk2dSM1UVXth%2FjhaSQMlF6hnzoy%2FIt04q5QC6Q6WsfmXUlUtP4%2BmCJi%2FK8TLIf7yhdys3ujktDDoEasLD%2FF9QN7Il0X8v%2BjB2erv%2BZ%2Brrs5VHOiTQgGE7%2BZatKjf5hEf1XctkKOk8u93tF6OAhEv8QijrI6ZbkCnZt3PKDnGtnPfTpWXV9gLRMuJH34gK%2BdKxxm2wL%2F6dXjq24b53jN4rxXpfce6Lj%2BvSXPWhKT0BbyrMWxS%2Bk6v2w9jBqMGR4TTsgYaQnlII%2ByYYqWVu3SSXxcjEJdOcuKak3%2BT7H6%2FPAoIrzcSjUQvs8GHq%2Bj7OvUNvyviyxeoI3z%2BL14z9v%2Fx%2BL9Zw%2FKrs34q4Ki7Nctg%2Fi3CwwoH0EdLuJh13gFOuABI1Cabywr1zQ3TaGfkdsxOv%2Bp53WSph2%2B170Lc%2Fh1s0cur%2FyDfmPU2Wu48FXzKTpLeNC9BkySZv9Z3vZVGXYiyeb1%2FD5syMP6cy7WjvldQ0AYk7QvoXUiA4aDyBIQcHQUOq3o1z5S2%2BxM4c%2FWCbDHWcATFklPXiTXGC3YmMTwfVDuCSKmLUDfkLIyuldBS3f8m8e6nLmzUhNzs2VE%2B%2Bisqs3JAEppg%3D%3D&nvMid=29030352586&catId=50000248\n",
            "23 Apple 아이폰 13 프로 512GB [LG U+] 1,173,190원 https://cr.shopping.naver.com/adcr.nhn?x=R7y%2BvInVddmyc%2F8kDRdaCv%2F%2F%2Fw%3D%3DsdeP56Iggt0jlTrzpTyGVnsgHVSN6BX05zAcuETeYbRuGgjNtjvRyY8TaEm3AQ5Uw0tubLN4pBY%2FH1KVgNB7c4zyftcKG7rlpaSw1owdZUT2gdvPZT6mtcyGMULteZSQGyuzOrj6ySIWQiTdoN9nsVN9%2BKy%2Fm0d%2BgYWHtEf61Jo5CNclKwvLyA%2Fys%2F%2FHPPajLLgSLggC%2FxgaGmXMXHZ51oGNmcbgLr0lu2cCLGgyX7c9vsepmwRk8o%2FCB4DgHhnjVNALuDeijLcCWq8d5YA5j%2FzPDpGIrabitp2up06DaRfi54J8UO7LDGXdPU9Do8oyMXmq0wb8nQ9S1CNyVqQgAyEocJLPFBP2n1wyGBZSe%2FwMVjQCpIk5kx4sJW2hrRfnKqwZ9aKCnp%2BOD2OzgCp1jz8dxNTLVMuH%2FBXFB4AFw0T2ZzZyDfGo1SQoYRvXGDzWdJDnYvpfz%2Bh%2BZ6wVz3KJUXqhFrFbN1IsTjyodAHuMEs7pLKfV7lHXkGfYNhWiUOPtINRw1QNF%2FOPJXb5%2B358LYOxZOeBg6DuZj3JdbONwB1YUsqiq%2BaRdh19ZzFGBbFc8E6rhtaOG8XYJZp7l049LI2K012WYnus3MbfxD9DKg5vke%2FVP%2BgM94BPZkP5YJ%2Bex&nvMid=29030295586&catId=50000248\n",
            "24 Apple 아이폰 13 256GB [LG U+] 543,000원 https://cr.shopping.naver.com/adcr.nhn?x=PEl%2F2%2BzDPhxUZ6EfAVSO4P%2F%2F%2Fw%3D%3DseNAlOMsZEn7sGb6EF79qu11G7N%2FFz9Fe16Q5WmgWdE9N4NgkrPIjlczCBjhk2dSMo99swxwIXrck1tkUhX1sNPIt04q5QC6Q6WsfmXUlUtP4%2BmCJi%2FK8TLIf7yhdys3ujktDDoEasLD%2FF9QN7Il0X8v%2BjB2erv%2BZ%2Brrs5VHOiTQgGE7%2BZatKjf5hEf1XctkKB2Pn%2FiPkS7HynqGLAPVU4pbkCnZt3PKDnGtnPfTpWXV9gLRMuJH34gK%2BdKxxm2wL%2F6dXjq24b53jN4rxXpfce6Lj%2BvSXPWhKT0BbyrMWxS%2Bk6v2w9jBqMGR4TTsgYaQnlII%2ByYYqWVu3SSXxcjEJdCYo3v6aTJzTSwTVsbyFBYDUQvs8GHq%2Bj7OvUNvyviyxeoI3z%2BL14z9v%2Fx%2BL9Zw%2FKvY0uZGkTWqdM%2FJDVW%2BgcesEdLuJh13gFOuABI1Cabywr1zQ3TaGfkdsxOv%2Bp53WSg6sGfNCfXGE1vlrcjWE3b%2B7A%2F0vSPti8cHY4o2fastwbv4ZUnDgFIiBsOSab73%2BZ0Bxv8xCIYlLO4bMGau0I8G%2FhgaMkJIhbUi8HFdPXAb31gZ%2BVo6tc4oywiuN4eymEmO0QScdmj79W4Ike%2ByYeOsNUJgJp6CUXauCvW7Y5AjN&nvMid=29030189588&catId=50000248\n",
            "25 Apple 아이폰 13 512GB [LG U+] 910,000원 https://cr.shopping.naver.com/adcr.nhn?x=OiWJEdk6rOQZwRX2eYV7pf%2F%2F%2Fw%3D%3DshFhk2z5o%2FRhRwR2di7zFwI19grgzhtW9ByOvPxwlg%2F9N4NgkrPIjlczCBjhk2dSM6RcDSWrgYYsO8DjExjKfL%2FIt04q5QC6Q6WsfmXUlUtP4%2BmCJi%2FK8TLIf7yhdys3ujktDDoEasLD%2FF9QN7Il0X8v%2BjB2erv%2BZ%2Brrs5VHOiTQgGE7%2BZatKjf5hEf1XctkKXL18pcfZrfPmJYHNtafSOZbkCnZt3PKDnGtnPfTpWXV9gLRMuJH34gK%2BdKxxm2wL%2F6dXjq24b53jN4rxXpfce6Lj%2BvSXPWhKT0BbyrMWxS%2Bk6v2w9jBqMGR4TTsgYaQnlII%2ByYYqWVu3SSXxcjEJdPgAb324V2lmR7WarInEGIPUQvs8GHq%2Bj7OvUNvyviyxeoI3z%2BL14z9v%2Fx%2BL9Zw%2FKh5Kuv6bblhK3Y1EVeLIAhkEdLuJh13gFOuABI1Cabywr1zQ3TaGfkdsxOv%2Bp53WSlIW%2BY6dtkO5I2VlccU6I9W7A%2F0vSPti8cHY4o2fastwFnvZOf13%2FHs8QEcH5JFcszcyePvU06i%2BglulcRrmMu6%2FhgaMkJIhbUi8HFdPXAb3%2F%2BxQgsYZmKd6sD%2BGqgWVw2O0QScdmj79W4Ike%2ByYeOsNUJgJp6CUXauCvW7Y5AjN&nvMid=29030296586&catId=50000248\n",
            "26 Apple 아이폰 13 프로 맥스 512GB [LG U+] 1,305,190원 https://cr.shopping.naver.com/adcr.nhn?x=jcA8PSqVdLJpm%2BELqEMfCv%2F%2F%2Fw%3D%3DsxEcztYaARL%2F6OCW1dVWmb1m9IwPA47E6a5IEZUpBW%2BDrlQPyQuHoHFsppYbPEdHaBbaBFDFKJYQuA36M%2F%2BrLIZnr9nS3pbZPpk6rz%2BHZI2vyCLHTcxlT1fPeHgcUbFOMsbjaG10wrkM7pGaMdZZx%2F4ZnlrSZr8PDPdBCvs8uWtdeJxHcKH4rYUhc5SxvGs%2FQ4mhrqoyUBRFf4NTE8brPnyJO7jbxAC%2FhHJnJbE9pD225SET%2FmTh%2Bwr3iKnDGr9FRDQSBnb42omhRrFXy5hX%2BBlBe6OKiF3i3QzSxpWT9t7NVXemfpmeX70wC2wQT5nyi5pxiwDZPU40LYzhHX%2FcRv5btiG%2FkDEKfzrebPslVGeE9Z0SeMqENQcl4GV2BeGrFwu4MT6sJGdDPz84qqx16D3KbGQPiUHE6CoSRQkRutMcKdxpmR%2FOe9hARgxC56kTdfY6%2FHjXTWDbDzPbx50kyUd5TwUlrPPAA7xkROGh7c%2FI%2Fjl5RTTG9J76ewxlkB2Tqocw36emOWauNlqG7SEpRs0sZ%2FFof9Fvo4Q%2B9cWSMUxXeK9CsYm6CIf4zHVGdl0EQYnHIcETcJifOE8sb44IMxTghH3gTbuQm5LRXC3Km9nzKLHxRSKmgPkpsF4yQi82PDhLBwu%2FFQS5xWYf5w6G3jQ%3D%3D&nvMid=29030181590&catId=50000248\n",
            "27 Apple 아이폰 13 프로 1TB [LG U+] 1,426,190원 https://cr.shopping.naver.com/adcr.nhn?x=9nj310AX2bPCUZJPEC%2F58P%2F%2F%2Fw%3D%3Ds2gJWpwCLo4iq4dZbhhxTft2rRxdy7Aq%2FO6DoF%2BlP7e9N4NgkrPIjlczCBjhk2dSMU3r5DaMEFv8HzhpH9k2kovIt04q5QC6Q6WsfmXUlUtP4%2BmCJi%2FK8TLIf7yhdys3ujktDDoEasLD%2FF9QN7Il0X8v%2BjB2erv%2BZ%2Brrs5VHOiTQgGE7%2BZatKjf5hEf1XctkKmXFie4VecjztgKjvLpljfZbkCnZt3PKDnGtnPfTpWXV9gLRMuJH34gK%2BdKxxm2wL%2F6dXjq24b53jN4rxXpfce6Lj%2BvSXPWhKT0BbyrMWxS%2Bk6v2w9jBqMGR4TTsgYaQnlII%2ByYYqWVu3SSXxcjEJdAnxboEQFJD1jGJxIHAT6HzUQvs8GHq%2Bj7OvUNvyviyxeoI3z%2BL14z9v%2Fx%2BL9Zw%2FKomfPkeQJBZpaSibDcZQLM0EdLuJh13gFOuABI1Cabywr1zQ3TaGfkdsxOv%2Bp53WSiPdT4Ks2DksY6LWLDtrBrSaU9qNqKx0Qc11MwuBOlFm2qRqqkmRjzDmmzADhw5%2BZ53D2traixE7cmPNc4dz%2F7uIDf9TYDOC4LzgCehLsur5IPNZweoOppAhwPHlZwPMRMvWYLEanVD2d0pDGBZO8ISFbDf4gHI5rSMJU1BWcIOg&nvMid=29030294586&catId=50000248\n",
            "28 Apple 아이폰 13 프로 맥스 1TB [LG U+] 1,580,190원 https://cr.shopping.naver.com/adcr.nhn?x=ajHAjTZzAsmCAi8IS7sRdP%2F%2F%2Fw%3D%3Dsz4hwbsk%2BdNar4iC8DY8c3lnTykhQN4uK31X%2FjZ%2B%2BFf%2FrlQPyQuHoHFsppYbPEdHaNosS3HSkfDtccCHCnLeirZZA6tFEkiXrbJQPqoakJcTyCLHTcxlT1fPeHgcUbFOMsbjaG10wrkM7pGaMdZZx%2F4ZnlrSZr8PDPdBCvs8uWtdeJxHcKH4rYUhc5SxvGs%2FQmIz7mGM5N0RdINhatgLaWSJO7jbxAC%2FhHJnJbE9pD225SET%2FmTh%2Bwr3iKnDGr9FRDQSBnb42omhRrFXy5hX%2BBlBe6OKiF3i3QzSxpWT9t7NVXemfpmeX70wC2wQT5nyi5pxiwDZPU40LYzhHX%2FcRv%2BeCQzeqQjnpAmM6PXKOCCI9Z0SeMqENQcl4GV2BeGrFwu4MT6sJGdDPz84qqx16D5DGCOJH2cxVZbT7iVyyQKwKdxpmR%2FOe9hARgxC56kTdfY6%2FHjXTWDbDzPbx50kyUd5TwUlrPPAA7xkROGh7c%2FI4JY2NfdVCOxQz8%2Bj1X7cro64ifB9DVeZ8ffla9GlFdiLk77kdC0XH1c6tkDsTmCUKt%2FzQpkEFegGKbv%2BnTG1HEs8cFUTVf2EXpmSuc9bAhATSF%2B3%2Bbuf2p1qCTZriv24KQZbUxQc4%2BbD0xGW08hL%2BHRyPBWbUFRhWScTsgQynPg%3D%3D&nvMid=29030181587&catId=50000248\n",
            "29 APLLE 아이폰13 미니 128GB 미개통 미개봉 새상품 696,480원 https://cr.shopping.naver.com/adcr.nhn?x=ABc8rWhPTulQ3L5T%2BlTO2v%2F%2F%2Fw%3D%3Dsio5Pz9ZQ7uv9W1MA6ItJXw0nBDjZ%2FXOUaCstuUQX5uPrlQPyQuHoHFsppYbPEdHak4WC0vSJz6dWsWT%2Fm6DFtSbqpw9dTGGD0qcIfs5j9sPyCLHTcxlT1fPeHgcUbFOMSQX0Yc91g1JJ6F1mlfCjsW%2Fzlkaggylryt0IEowRYKPgv6Uqdx%2BQ4rufvoPK93htT%2FGmAbnAUeMgeQFhtUeXyZDHUfdUcUswDOHApj%2BEVwjY86YU2nSAvbeBH61mIqj9UF7o4qIXeLdDNLGlZP23s1Vd6Z%2BmZ5fvTALbBBPmfKLmnGLANk9TjQtjOEdf9xG%2F3L5frWikHH5kR33JqQ79LjYt8dQA%2FckMajNg50PSAP5sXg5lUvZD9zC7Fi9WJJOHQ%2BpYN5e3pGtG3lYyagraZnGEtpQy7w0lktcE%2FCahqmrSx%2BKllSgNUnumllJmwU8f7g6npCqT8CODNIGdCweW90JZUA1SWg%2FkEntN792xKYKKctKm0QMNuMQToaFuuhkoY3qY5mqOyklUPqZQ2Mhwn66phPhUxX6dfO1QW%2B6bR%2BB8CXl251OpmWizflz2KEWc508ACVEkTpaSDlFoPl5RZ6%2BqSRho7reuKa8cdpA%2FsdrNjqh%2FZemCCOboDhnweAmG&nvMid=29003990842&catId=50001519\n",
            "30 Apple 아이폰 13 자급제 핑크 256GB 1,181,160원 https://cr.shopping.naver.com/adcr.nhn?x=9Ko8lzUVYMdVRrz4Z8Gpqv%2F%2F%2Fw%3D%3Ds2GbZxjVV%2Fpxg5fMINF2zWGKsb7dQEdhTJ7UilspDYIeGgjNtjvRyY8TaEm3AQ5UwfOcMg3saZ1B2t%2FDzJNNZ8zyftcKG7rlpaSw1owdZUT2gdvPZT6mtcyGMULteZSQGyuzOrj6ySIWQiTdoN9nsVBzWbUP4hsfkDiMh%2FeiprrdhOluJ1tWQQiXRTgst1zfMd6bHlna6LOLB6PkUuNvGbixJClNUiz8YbKhzRSj9BpWYNFA%2BPIiqSFzF%2BaV%2Bqd5W6tY1BUZlHLhpI9ZzU6T7z95vLn28ScaRZROvNlQk4alwSuXXLEBv6z%2B3q0lfq9Jv%2BGXBSIwl8H66FW%2BWieYEDVBe6OKiF3i3QzSxpWT9t7NVXemfpmeX70wC2wQT5nyi5pxiwDZPU40LYzhHX%2FcRvzzcK%2FKZ7AjtyO8K6%2B3R8ceFBqlYsZUWsJTnzT9yWjaXK98KaIZa4VBE0V5wqYGSTu9RTXo1Bmi7jMRPe8DoyuWMHn7BDBNaqXNmoKbAeTMva42dsZkAW0k6UtihrcbVeTAeMP%2BbMM8TRAPUaCaXGqkzjOeyXPggTJu0j3yfciWfBkPYMPTgQmM8WFVNjU1jhQOdy3niK%2BEC%2BOu8vNwYyD%2B5PcsdixOKM84nfw%2BU7IK6qQUuoaWJqN%2FEKTa8tdAjoa4GMXYQENSFGwze8vRnIjXXVKRe8%2FEIUv07%2BhtwRORUDVCYCaeglF2rgr1u2OQIzQ%3D%3D&nvMid=29064755783&catId=50001519\n",
            "31 Apple 아이폰 13 mini 자급제 256GB 핑크 1,009,800원 https://cr.shopping.naver.com/adcr.nhn?x=iikCHgt%2BiErGbot5KZvUJf%2F%2F%2Fw%3D%3DsDXUsCgQMehUCdPfT%2Fux9sAyGF2LmLNQcX91dlyLv4fuGgjNtjvRyY8TaEm3AQ5Uwk0JXdBtkkn26LI5OE2O%2BWTyftcKG7rlpaSw1owdZUT2gdvPZT6mtcyGMULteZSQGyuzOrj6ySIWQiTdoN9nsVBzWbUP4hsfkDiMh%2FeiprrdhOluJ1tWQQiXRTgst1zfMd6bHlna6LOLB6PkUuNvGbhcZTESvesdOhIGLumEj5VnQKs7VECOCH6RiXWJE6IjEzzD8kJ52UcydmbEOj6RfrJ7e7473nuDHAAnBOHNekItwSuXXLEBv6z%2B3q0lfq9JvqWIfDBgPGnE%2B3VlnmNXRgVBe6OKiF3i3QzSxpWT9t7NVXemfpmeX70wC2wQT5nyi5pxiwDZPU40LYzhHX%2FcRv2TnfF%2FvEvoXJGQ%2FPtjWe%2BCFBqlYsZUWsJTnzT9yWjaXK98KaIZa4VBE0V5wqYGSTsVGzlnz1JOiW4Pw7JBCZgiMHn7BDBNaqXNmoKbAeTMva42dsZkAW0k6UtihrcbVeep4hCwwN8r%2F0e78%2BsrNaTL4h9X%2Bh0NgN%2B5mI6zjVpN0XZ76KJZClTaLoisbxYrSEKs6mlStLdz2uChOe4XJR08%2FDLBXgzXi9zrPKxYlrmAphgL9sQPcYLlZAiSaaH3d7nK3yXFS90qrjQHjxh7FB09hK8yxsmuukYOQZt0AMe24DhLBwu%2FFQS5xWYf5w6G3jQ%3D%3D&nvMid=29064819083&catId=50001519\n",
            "32 애플 아이폰13 미니 128GB 자급제 미개봉 새상품 694,510원 https://cr.shopping.naver.com/adcr.nhn?x=CQYGeFpzngJf4UILb7i8L%2F%2F%2F%2Fw%3D%3Ds%2FyhHyKDYc%2F2jV%2F2tH5UO%2BOnLCyU5q8mwsWizkFSHH2CGgjNtjvRyY8TaEm3AQ5Uw6CRt7iaIqVLWc%2FSrgXTvEjyftcKG7rlpaSw1owdZUT2gdvPZT6mtcyGMULteZSQGyuzOrj6ySIWQiTdoN9nsVEuRuCra0V6kWdISE25kd8Fij0CI43p2RihrWL%2Bg8CQWm9XkqSwMHphSdzvcROqelmNdhPZVN4kEyOGLErelqoKH3e51Zi6y8wV6VUNgA9BkypPajD6yKnwusQqEpnlTc5S1yd62COp7ZloUf5Z0DGS%2BRSsulxzuZh91kr9PDkB2jFgA%2FsYvPD792FLAK6HqJtUOlhY1NIwonJXuJoE2B72AbCY81f975eS5nfR25FBiP83WAv8GAIoQ0MwLPWeb%2FQ5Qf8qYRYm117KU2YBI1guE%2Fn0UA5YKF1qnSqSOjrpFK98KaIZa4VBE0V5wqYGSThR%2B%2BfVnBkhhYeSmA5T3d%2ByMHn7BDBNaqXNmoKbAeTMvqFhqHKlMAtG06yfdqTanlUfTmu80PPs%2FMBPhnIzy5qvHLT5NVVVHEa0GGDrMUnZumwiZ3lHzLB1Kh6b5zQh3cUFhA3CvOhqJY2NTkPusdrm04Ejne3M5xS0gJA3yHZNs2geY8LIes7Kg%2FgmRPaeulRyt7UxCkcWe8RhiG%2B%2BPelRBhLFVpx8x9hNYrZ5D91tQbCLjWqVH7%2BJJaZlmSFGNGAau4fTwOUqyF63FjwpQRls%3D&nvMid=30681118021&catId=50001519\n",
            "33 Apple 아이폰 13 mini 자급제 128GB 핑크 1,070,000원 https://cr.shopping.naver.com/adcr.nhn?x=gt6YGlkPtUjUy2u1ZVsCsf%2F%2F%2Fw%3D%3Ds3sJke%2Fp0QmJjaEEsMqHYNC2Dsxu14tdPxXuL1nGpA9CGgjNtjvRyY8TaEm3AQ5UwVSacd2nayPGAyz4D2MtfMTyftcKG7rlpaSw1owdZUT2gdvPZT6mtcyGMULteZSQGyuzOrj6ySIWQiTdoN9nsVBzWbUP4hsfkDiMh%2FeiprrdhOluJ1tWQQiXRTgst1zfMd6bHlna6LOLB6PkUuNvGbhcZTESvesdOhIGLumEj5VnQKs7VECOCH6RiXWJE6IjEFjr0ogcFUQ9oLgPjJTjLT2FRkMGjmCAmRFA3T92dWRquctWfJLSffIPPJdi0DfxZwH1dw8rj4uRt%2BUrj2IJ%2Bu1Be6OKiF3i3QzSxpWT9t7NVXemfpmeX70wC2wQT5nyi5pxiwDZPU40LYzhHX%2FcRv%2BE4VHTvPCocRiQMowjchGCFBqlYsZUWsJTnzT9yWjaXK98KaIZa4VBE0V5wqYGSTh7u7%2FccycOk1ZZ4ZS%2BKmhyMHn7BDBNaqXNmoKbAeTMva42dsZkAW0k6UtihrcbVeep4hCwwN8r%2F0e78%2BsrNaTJQaolLICQIa695ccYA%2FgPUXZ76KJZClTaLoisbxYrSEAr%2FwqABM7FU%2BTomrKpzwSbq4OFe0ewkzwVjBBInwmrMhgL9sQPcYLlZAiSaaH3d7lye6zcCl6GWV%2BGC89P91fxhK8yxsmuukYOQZt0AMe24DhLBwu%2FFQS5xWYf5w6G3jQ%3D%3D&nvMid=29619937553&catId=50001519\n",
            "34 Apple 아이폰 13 Pro Max 자급제 시에라 블루 128GB 1,490,000원 https://cr.shopping.naver.com/adcr.nhn?x=sRKaSXBhQubpbtfDWK3URv%2F%2F%2Fw%3D%3Ds8o75ZhRVjRp2Brw34iZa5wnaWxOuaCL%2FQwwPcnIaxReGgjNtjvRyY8TaEm3AQ5UwITUT%2BuxmYxppmHaWm9l0zTyftcKG7rlpaSw1owdZUT2gdvPZT6mtcyGMULteZSQGyuzOrj6ySIWQiTdoN9nsVBzWbUP4hsfkDiMh%2FeiprrdhOluJ1tWQQiXRTgst1zfMd6bHlna6LOLB6PkUuNvGbi4w%2FJbZ%2Buwv5YSyAw8x5DA%2BxWWd0SvsoimSPkYgt0fjXjYTcM%2F06LGyDORJksnRXns%2FreGCpuFe33X9ZlI%2F9zNwSuXXLEBv6z%2B3q0lfq9Jv%2Fy7Bsj%2B7166erskpG3lZBlBe6OKiF3i3QzSxpWT9t7NVXemfpmeX70wC2wQT5nyi5pxiwDZPU40LYzhHX%2FcRv9pVmQ00KgnOBpQJd7faO1qFBqlYsZUWsJTnzT9yWjaXK98KaIZa4VBE0V5wqYGSTq6WcSgefw6xBEoprDUgenGMHn7BDBNaqXNmoKbAeTMva42dsZkAW0k6UtihrcbVefloH6366Db8x1l%2BBIN4iVYXJh%2Bnch4tx69KeyeSAIcjqxkdfM1oFK3JjNKVlF0T8nUzHwURx5fgAotDB6a%2FiB9BvOVKRCdkye67WQTpXbAvFzcnvZN2pG12XEuR%2F3JR3tnNdwgOWHGvjY0RoG0FmEZtoLStcGu8YO0apMVNIdhVMvNJ3rqmUhOjDb8pMYev3UHQIiXcF4qwUXZ2sX76wW8%3D&nvMid=30797875281&catId=50001519\n",
            "35 아이폰 Apple 아이폰13 미니 128GB 기기값 24만원 246,000원 https://cr.shopping.naver.com/adcr.nhn?x=pJZXL4GyuzZwlRKS1SGvSv%2F%2F%2Fw%3D%3DsIaGdgZlBv91Y5cA6L0GKYCzZaRRc6HVCisDRArMVLNqGgjNtjvRyY8TaEm3AQ5UwUKWRkSW1s5TNKHOsSBFo0TyftcKG7rlpaSw1owdZUT2gdvPZT6mtcyGMULteZSQG%2BTAQIN8oKhO0lYwXWOo9gsNHgaylo8oOLD%2BoSlOgwQ0CHQNNLjv%2FUbY4TLZErh4672PHxaevof1oz2NGMfJns4zCjxqgAI3%2BQ6ETn%2FUpRN3mDUqdjKStgEdMyIng%2BiOYyLfRC0o%2FWYDsFhk%2BnF4ktzVCZ4rdk8hPModxsSdH4jyNjwR7PxsCe2dRjnDO3JivMH0bb7e5xWMY3Rfl1kxHpQxuHr8vjNd4%2BuFGDp4U8hkOJbON%2BDmzxL96ZL6Hqchyxv197fyjYSyXFrroWYEUdpaDbfIQggxCue0co08%2FWZJvMW5uM5I8j3vtyumeFnfJAfY01p9UZN3ppQTMfzGrb875DdsiwuoQL0qIR6bfKwUpxrllXbNtqCepGd2%2BUAAzrANn%2Bx11xAoqVWr7h6PEgeYQsU7TtARBhTKL6TvT1FOmcPWILWeq2EkVIKaXuGV2c%2BeCqh7P%2BNe0Cs2UjeaUBG9TZjqEQTAbFzUBl8432wvhVEAf6wwM5tqtSh0bB5Hx&nvMid=29860284145&catId=50001519\n",
            "36 Apple 아이폰 13 mini 자급제 256GB 스타라이트 1,190,000원 https://cr.shopping.naver.com/adcr.nhn?x=x0xtEChZjruBC2Wd7xg%2BSv%2F%2F%2Fw%3D%3Ds7bh9ngJAxwY%2BoQ5qtO8Wr9hd185uTJbXA6GqX6VYCW%2FrlQPyQuHoHFsppYbPEdHaTa6QmaHsCd4%2BMqaA7%2FWbXJNxvHKqt%2BtNJJqCql3%2BDpHyCLHTcxlT1fPeHgcUbFOMsbjaG10wrkM7pGaMdZZx%2F%2BPYFsKOGABFhj5ZzjFkFAeKjyp0s01e9YG50wI1msUPhccDuMc5z4LdpGHOH3GIHXqfAVVklzQGCd7bqx4WVMSHclbTWNWHDVPTcZA3%2FVZ6NOjGUSAx34tugk%2F5TRAMuTYWOfWAXZ7giYZejNryyzeVTmVAQMBoXSsj5Y1uvZJWZ0UrhLwRC%2B%2FC9c%2BNYKiP%2FFHBKPV8WtMZOPc1%2BnWseejL%2Fowdnq7%2Fmfq67OVRzok0S5SJNLgIdS1XFCtZ5GETGK9%2BFf4ogW9%2FTpfE1f%2FJ7xK97zR0i%2BSHHWWXEcCR9q092HvQrG1q57G6KIPveES%2FyBKo5HlxLJGc24aHSRzWN%2Fdtua%2FnQn1QJVeRZVt7AJt%2FxnOKzEe7IQNs9tYyaH5Vgz%2FB%2FSDW0NXUymZ2rrqoVCrIMS7Pl6tK6VPE72VIEU2NlRNkSBNRczd%2BTYtQ66ejtB%2BSy4eXkdnktmGe%2Bz3Bni%2BuFd6yv7twtTS%2FbWnHE73%2Fg64ApXpFcbUizTdcku%2BIF6lclYc%2FCCqhlJU%2Fs6XOdDUUR2rBJGeEqV42CkKXzLUInLywBF6TPdyrHi5pSyQkVg1QmAmnoJRdq4K9btjkCM0%3D&nvMid=29056389772&catId=50001519\n",
            "37 아이폰 13 자급제 128GB 스타라이트 MLPG3KH/A 1,046,727원 https://cr.shopping.naver.com/adcr.nhn?x=N%2BxqF1IqZBA%2FCBINRAh%2Fd%2F%2F%2F%2Fw%3D%3DsbraQaKWb9vbHqpKykmWuM%2B60FU0WuzQSY%2FVxR5BtwlOGgjNtjvRyY8TaEm3AQ5Uwlbg6S5p%2FBLoxGFG9UsftcTyftcKG7rlpaSw1owdZUT2gdvPZT6mtcyGMULteZSQGifqAio7Q3SMBPM6hLT4sXQ1rxYWWd6fJbWVlhGdtJHkQ8EyrzWBmPrLJhUL5PrJt6BnLZDm15TfssThBqY71TVEcmyw5Y9nmOVxrRXiIus8G7z9hUx%2BOrpJLsbX2U1s1PGOg%2Fyl7828UdDjHxhiabc1oTqBRK1e4d5t0H7ao4g7Z4k75Sv77Ngc36%2BitZDfqhmeWtJmvw8M90EK%2Bzy5a1yVdN3LpKf%2FbKuiZi7z1XJQTX50YY1WDyTrXaIcc6hudwk76zN64bceapaRCIoyC%2F3%2BUucnAxrsG3xHb9QOpCsJMkl6JliupXKSNi5MWeBAV69Hm5BaligslR8mPA51Xe%2B0fDzkeyJ6VkbPpjAtUYZ7LXsojaUJJ6ZWQx3KhiNevZcG4d4wBsFXiCxM4xLtswPXzN5PaNJd%2BSEGv3ZW78xPQU8SrFbBKH0x8VXZM1T5vNo1oWSrJUiGtG54po%2F8ONgtjuM77karF%2FzWEhME6SUtz4ISyk8yRpmhmkwVW7GmnvKfecDkoPO7eK7zlOYUPobPyZrdKJEv%2FJ%2FBC%2BnMQ3fQGruH08DlKshetxY8KUEZb&nvMid=30838658535&catId=50001519\n",
            "38 [사전예약] Apple 아이폰 13 미니 자급제 128GB - 그린 (MNFF3KH/A) 950,000원 https://cr.shopping.naver.com/adcr.nhn?x=ON2c8HfPPjkfdyM8Drqg0%2F%2F%2F%2Fw%3D%3DsAVbUVV%2BecSXXzM8%2Box%2FiylWHI3h6MN3WxeKUeL4%2B9sGGgjNtjvRyY8TaEm3AQ5Uwa0CNIzJrWnSdn1ZD924BKDyftcKG7rlpaSw1owdZUT2gdvPZT6mtcyGMULteZSQGyuzOrj6ySIWQiTdoN9nsVES%2BortKzfQDWBF5GV%2FKfqEhJv3ljJo79VVIpj6%2Fm3WOFf6lmyIYoA4aFLK1TkcuyuZC9MCE4g3bX%2BJpb2R7Z69jI50HZy%2FcLV2dSyPQS0HhEIZJB1yuP5kkcuYnGBP9u2Qvkl1McMi1HJJ7bnAAAbUcv808MtqNiWRi8y%2Fkd7UsGF%2B1DDyVBaR2wl%2B%2FJukWLgacbYAqjA%2FRBJSjG7ZMNVz72tZ6K1fkA2abgWehiJPdy9S5Qn54Oonk9RFLYKiRBTOvGCt5EsXJryqcHUnoazSUCtBgvatSSFFF6srt%2Buml4DOOETdduEN7OitPjqLra%2Bmc0mf6Ck%2FIO60TB%2Blquo9xwbX6l3l6On158kwwhLoZTGi2nVBdkRYNmtOTrK3ZGmxsS6kmrEurzjgvKkU6rzQPb9KynwvDvfILRBpXxSlwhX8Uj6mP3ZnA%2Bow%2BkuJf0SzeYisYH%2BJoAGSYFaP8MShYild9SKQszJyJsO4%2BCKVVBq7h9PA5SrIXrcWPClBGWw%3D%3D&nvMid=83968777328&catId=50001519\n",
            "39 아이폰13 미니 128GB 미개봉 새상품 724,710원 https://cr.shopping.naver.com/adcr.nhn?x=H0xNSRjpGxnS9wsIkB2nAP%2F%2F%2Fw%3D%3Ds8Gjk0Pfxg6xjNI%2F%2BundmBUVV7BXm04HPjjuSK5SDbcqGgjNtjvRyY8TaEm3AQ5Uw5UuqaUp6GtX7R823BLVjnTyftcKG7rlpaSw1owdZUT2gdvPZT6mtcyGMULteZSQGyuzOrj6ySIWQiTdoN9nsVH9jBvQF78L7i7pnL4F1ZjMNaLo85e6Ha77aQ4Q%2Fp7sSCq3iKqLj%2BRWT3kLVMX8TXWVTxJjrvoFatDhgWFIVmDXKauV%2Fu8GqN7NzXU8s6pEP6jYTd9DnqeU1wQTBfkxocTPDpGIrabitp2up06DaRfi54J8UO7LDGXdPU9Do8oyMXmq0wb8nQ9S1CNyVqQgAyGnkg5dvLZyErq0bo8ZD9UKS3h5xumjHDcbDFtP18vRiYYyQomAOCRwvaXv4BU13v%2B7nM33YiyTej%2BHxKNFjB7deXs8JhKr1w%2FfTQog2lGikoFJtUXTWpyV24mIFPLOBv4z%2BnVvci38VkhutQSANfkOGw9JUNCznOm0ti%2F3ZAfl4P3eA5mGFtmAYFBnqEuGAwiMkgdtC3a656zDGO27uSWcugiDh5S8n%2B7Rc0MeNuzgd9sd%2B8GvXpp059hI7cRM9f2SuLtMRHiwaDgriqkJtYrXHICEQpPL7Rm%2B2fyhjEhHR&nvMid=30717422258&catId=50001519\n",
            "40 아이폰13 프로 맥스 128G 자급제 미개통 새상품 1,255,410원 https://cr.shopping.naver.com/adcr.nhn?x=9Bk1kRFfhfG4hamWM42NSv%2F%2F%2Fw%3D%3Ds8NqvDPFfpUQMhJdnDIWHtCaiNfMcpg9kHz%2Be8J8wWpyGgjNtjvRyY8TaEm3AQ5Uw%2FH7ZSNgsw%2Bo5XWKBHXmxTTyftcKG7rlpaSw1owdZUT2gdvPZT6mtcyGMULteZSQGifqAio7Q3SMBPM6hLT4sXVDHuPCXPk7z4O3%2Bw2Pgn9helejFdkqFTSchcszRHkrydcMiYip73yQ3m6qRC5JBxqKussA6WRNbS9PEwK1wiOXXEJ7AMsfMF0uUQlTrNULOM8OkYitpuK2na6nToNpF%2BLngnxQ7ssMZd09T0OjyjIxearTBvydD1LUI3JWpCADIp93KfW1IYTc2GDf4pszsl68Z9xYKAeeXusGxMgRxJ0RPTUNgESynoaVc6xaG%2F3dS8PXopg2Gl1lIhPNXNMuEL5HCYQVNLk1ucTY4Z7EtU4V85nI129bb9uYt%2Btyez2b1PPq%2B78mEKf8tn%2FKJe8%2BLtIfjPphfFy%2Bc2Bi4pxnjKQ9J5I%2F0WJpz%2BikM6D7MA9%2FTRnrF%2Fpj3OUSUDXkcKtj8kmlZNtqXQ4FQwDB4lcagvdmPBimPDZwOttZjcrwUclZ9wQvsaNgXHsBfomxEzbTGxn2UhO6qnXVqadoxZmCNfPFoaKZHilHbuauHUigNM5KA&nvMid=30259224848&catId=50001519\n"
          ]
        }
      ]
    },
    {
      "cell_type": "markdown",
      "source": [
        "# 과제"
      ],
      "metadata": {
        "id": "OrJbIji9ehQy"
      }
    },
    {
      "cell_type": "markdown",
      "source": [
        "- 아이폰13 검색시 나오는 핫딜or해외상품을 크롤링결과에서 제외시켜봅시다!\n",
        "    - 추후 쇼핑사이트나 네이버지도등에서 크롤링시, **광고상품을 제거**하는데 활용 가능!\n",
        "- If-else 혹은 try - except 구문 활용\n",
        "- 해외상품의 순위는 카운트되지 않아야 함을 주의!"
      ],
      "metadata": {
        "id": "R7ckU7eLeti6"
      }
    },
    {
      "cell_type": "code",
      "source": [
        "import openpyxl\n",
        "from openpyxl import Workbook\n",
        "wb = Workbook()\n",
        "sheet = wb.active"
      ],
      "metadata": {
        "id": "JTjnW9KIopnx"
      },
      "execution_count": 8,
      "outputs": []
    },
    {
      "cell_type": "code",
      "source": [
        "sheet.append(['Ranking','Name','Price','Link'])\n",
        "#웹페이지주소이동\n",
        "browser.get(\"https://search.shopping.naver.com/search/all?query=%EC%95%84%EC%9D%B4%ED%8F%B013&cat_id=&frm=NVSHATC\")\n",
        "time.sleep(2)\n",
        "\n",
        "# 스크롤 전 높이\n",
        "before_h = browser.execute_script(\"return window.scrollY\") #execute_script = 자바스크립트 명령어 실행\n",
        "\n",
        "# 무한 스크롤 - 반복문\n",
        "while True:\n",
        "    # 맨 아래로 스크롤을 내린다. body = 모든 웹사이트에 존재\n",
        "    # 키보드의 END키 누르면 웹페이지 맨아래로이동\n",
        "    browser.find_element(By.CSS_SELECTOR, \"body\").send_keys(Keys.END)\n",
        "    time.sleep(1) # 스크롤 사이 페이지 로딩시간\n",
        "    after_h = browser.execute_script(\"return window.scrollY\")\n",
        "\n",
        "    if after_h == before_h:\n",
        "        break\n",
        "    before_h = after_h  # 스크롤 후 높이가 다르면 before_h를 업데이트\n",
        "\n",
        "items = browser.find_elements(By.CSS_SELECTOR, 'li.basicList_item__2XT81')\n",
        "\n",
        "\n",
        "i=1\n",
        "for item in items:\n",
        "  try:\n",
        "     hotdeal = item.find_element(By.CSS_SELECTOR, 'span.thumbnail_sale__T-L2g').text\n",
        "     continue\n",
        "  except:\n",
        "    name = item.find_element(By.CSS_SELECTOR, 'div.basicList_title__3P9Q7').text\n",
        "    price = item.find_element(By.CSS_SELECTOR, 'span.price_num__2WUXn').text\n",
        "    link = item.find_element(By.CSS_SELECTOR, 'div > a.basicList_link__1MaTN').get_attribute('href')\n",
        "    sheet.append([i,name, price,link])\n",
        "    i += 1"
      ],
      "metadata": {
        "id": "kPHQfhgCew0D"
      },
      "execution_count": 9,
      "outputs": []
    },
    {
      "cell_type": "code",
      "source": [
        "#간격조절\n",
        "sheet.column_dimensions['A'].width = 10\n",
        "sheet.column_dimensions['B'].width = 30\n",
        "sheet.column_dimensions['C'].width = 20\n",
        "sheet.column_dimensions['D'].width = 40\n"
      ],
      "metadata": {
        "id": "MqmbKDQksmDi"
      },
      "execution_count": 10,
      "outputs": []
    },
    {
      "cell_type": "code",
      "source": [
        "#크롤링 데이터 저장\n",
        "wb.save(filename='iphone13_nohotdeal_crawling.xlsx')"
      ],
      "metadata": {
        "id": "4ZEUYcX3ry-r"
      },
      "execution_count": 11,
      "outputs": []
    }
  ]
}